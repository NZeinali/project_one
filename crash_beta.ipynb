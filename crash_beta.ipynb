{
 "cells": [
  {
   "cell_type": "markdown",
   "source": [],
   "metadata": {}
  },
  {
   "cell_type": "code",
   "execution_count": 2,
   "source": [
    "import pandas as pd\r\n",
    "import matplotlib.pyplot as plt\r\n",
    "import scipy.stats as st\r\n",
    "\r\n",
    "file_to_load = \"crash_info.csv\"\r\n",
    "\r\n",
    "# Read Purchasing File and store into Pandas data frame\r\n",
    "crash_data = pd.read_csv(file_to_load)\r\n",
    "crash_data.head()"
   ],
   "outputs": [
    {
     "output_type": "execute_result",
     "data": {
      "text/plain": [
       "            X          Y  OBJECTID    ACC_ID  ROAD_NO  \\\n",
       "0  115.792274 -32.029452  27585440  10231294  1190012   \n",
       "1  115.821106 -31.901343  27585441  10231300     H561   \n",
       "2  115.970937 -32.066115  27585442  10231306  1040003   \n",
       "3  115.852685 -31.952160  27585443  10231312  1240111   \n",
       "4  115.949014 -31.906427  27585444  10231318  1110017   \n",
       "\n",
       "                                   ROAD_NAME  \\\n",
       "0                           Preston Point Rd   \n",
       "1  Hutton St on to Mitchell Fwy (Southbound)   \n",
       "2                                 Spencer Rd   \n",
       "3                                     Hay St   \n",
       "4                              Palmerston St   \n",
       "\n",
       "                            COMMON_ROAD_NAME CWAY   SLK  INTERSECTION_NO  ...  \\\n",
       "0                           Preston Point Rd    S  0.86          47160.0  ...   \n",
       "1  Hutton St on to Mitchell Fwy (Southbound)    S  0.00           4347.0  ...   \n",
       "2                                 Spencer Rd    L  4.97          43773.0  ...   \n",
       "3                                     Hay St    S  2.92              NaN  ...   \n",
       "4                              Palmerston St    S  0.47          37514.0  ...   \n",
       "\n",
       "  ACCIDENT_TYPE   SEVERITY         EVENT_NATURE            EVENT_TYPE  \\\n",
       "0  Intersection  PDO Major          Right Angle                   NaN   \n",
       "1  Intersection  PDO Major             Rear End                   NaN   \n",
       "2  Intersection  PDO Major  Sideswipe Same Dirn  Involving Overtaking   \n",
       "3      Midblock  PDO Minor  Sideswipe Same Dirn  Involving Overtaking   \n",
       "4  Intersection  PDO Major          Right Angle                   NaN   \n",
       "\n",
       "   TOTAL_BIKE_INVOLVED TOTAL_TRUCK_INVOLVED TOTAL_HEAVY_TRUCK_INVOLVED  \\\n",
       "0                    0                    0                          0   \n",
       "1                    0                    0                          0   \n",
       "2                    0                    0                          0   \n",
       "3                    0                    0                          0   \n",
       "4                    0                    0                          0   \n",
       "\n",
       "  TOTAL_MOTOR_CYCLE_INVOLVED TOTAL_OTHER_VEHICLES_INVOLVED  \\\n",
       "0                          0                             2   \n",
       "1                          0                             2   \n",
       "2                          0                             2   \n",
       "3                          0                             2   \n",
       "4                          0                             2   \n",
       "\n",
       "   TOTAL_PEDESTRIANS_INVOLVED  \n",
       "0                           0  \n",
       "1                           0  \n",
       "2                           0  \n",
       "3                           0  \n",
       "4                           0  \n",
       "\n",
       "[5 rows x 25 columns]"
      ],
      "text/html": [
       "<div>\n",
       "<style scoped>\n",
       "    .dataframe tbody tr th:only-of-type {\n",
       "        vertical-align: middle;\n",
       "    }\n",
       "\n",
       "    .dataframe tbody tr th {\n",
       "        vertical-align: top;\n",
       "    }\n",
       "\n",
       "    .dataframe thead th {\n",
       "        text-align: right;\n",
       "    }\n",
       "</style>\n",
       "<table border=\"1\" class=\"dataframe\">\n",
       "  <thead>\n",
       "    <tr style=\"text-align: right;\">\n",
       "      <th></th>\n",
       "      <th>X</th>\n",
       "      <th>Y</th>\n",
       "      <th>OBJECTID</th>\n",
       "      <th>ACC_ID</th>\n",
       "      <th>ROAD_NO</th>\n",
       "      <th>ROAD_NAME</th>\n",
       "      <th>COMMON_ROAD_NAME</th>\n",
       "      <th>CWAY</th>\n",
       "      <th>SLK</th>\n",
       "      <th>INTERSECTION_NO</th>\n",
       "      <th>...</th>\n",
       "      <th>ACCIDENT_TYPE</th>\n",
       "      <th>SEVERITY</th>\n",
       "      <th>EVENT_NATURE</th>\n",
       "      <th>EVENT_TYPE</th>\n",
       "      <th>TOTAL_BIKE_INVOLVED</th>\n",
       "      <th>TOTAL_TRUCK_INVOLVED</th>\n",
       "      <th>TOTAL_HEAVY_TRUCK_INVOLVED</th>\n",
       "      <th>TOTAL_MOTOR_CYCLE_INVOLVED</th>\n",
       "      <th>TOTAL_OTHER_VEHICLES_INVOLVED</th>\n",
       "      <th>TOTAL_PEDESTRIANS_INVOLVED</th>\n",
       "    </tr>\n",
       "  </thead>\n",
       "  <tbody>\n",
       "    <tr>\n",
       "      <th>0</th>\n",
       "      <td>115.792274</td>\n",
       "      <td>-32.029452</td>\n",
       "      <td>27585440</td>\n",
       "      <td>10231294</td>\n",
       "      <td>1190012</td>\n",
       "      <td>Preston Point Rd</td>\n",
       "      <td>Preston Point Rd</td>\n",
       "      <td>S</td>\n",
       "      <td>0.86</td>\n",
       "      <td>47160.0</td>\n",
       "      <td>...</td>\n",
       "      <td>Intersection</td>\n",
       "      <td>PDO Major</td>\n",
       "      <td>Right Angle</td>\n",
       "      <td>NaN</td>\n",
       "      <td>0</td>\n",
       "      <td>0</td>\n",
       "      <td>0</td>\n",
       "      <td>0</td>\n",
       "      <td>2</td>\n",
       "      <td>0</td>\n",
       "    </tr>\n",
       "    <tr>\n",
       "      <th>1</th>\n",
       "      <td>115.821106</td>\n",
       "      <td>-31.901343</td>\n",
       "      <td>27585441</td>\n",
       "      <td>10231300</td>\n",
       "      <td>H561</td>\n",
       "      <td>Hutton St on to Mitchell Fwy (Southbound)</td>\n",
       "      <td>Hutton St on to Mitchell Fwy (Southbound)</td>\n",
       "      <td>S</td>\n",
       "      <td>0.00</td>\n",
       "      <td>4347.0</td>\n",
       "      <td>...</td>\n",
       "      <td>Intersection</td>\n",
       "      <td>PDO Major</td>\n",
       "      <td>Rear End</td>\n",
       "      <td>NaN</td>\n",
       "      <td>0</td>\n",
       "      <td>0</td>\n",
       "      <td>0</td>\n",
       "      <td>0</td>\n",
       "      <td>2</td>\n",
       "      <td>0</td>\n",
       "    </tr>\n",
       "    <tr>\n",
       "      <th>2</th>\n",
       "      <td>115.970937</td>\n",
       "      <td>-32.066115</td>\n",
       "      <td>27585442</td>\n",
       "      <td>10231306</td>\n",
       "      <td>1040003</td>\n",
       "      <td>Spencer Rd</td>\n",
       "      <td>Spencer Rd</td>\n",
       "      <td>L</td>\n",
       "      <td>4.97</td>\n",
       "      <td>43773.0</td>\n",
       "      <td>...</td>\n",
       "      <td>Intersection</td>\n",
       "      <td>PDO Major</td>\n",
       "      <td>Sideswipe Same Dirn</td>\n",
       "      <td>Involving Overtaking</td>\n",
       "      <td>0</td>\n",
       "      <td>0</td>\n",
       "      <td>0</td>\n",
       "      <td>0</td>\n",
       "      <td>2</td>\n",
       "      <td>0</td>\n",
       "    </tr>\n",
       "    <tr>\n",
       "      <th>3</th>\n",
       "      <td>115.852685</td>\n",
       "      <td>-31.952160</td>\n",
       "      <td>27585443</td>\n",
       "      <td>10231312</td>\n",
       "      <td>1240111</td>\n",
       "      <td>Hay St</td>\n",
       "      <td>Hay St</td>\n",
       "      <td>S</td>\n",
       "      <td>2.92</td>\n",
       "      <td>NaN</td>\n",
       "      <td>...</td>\n",
       "      <td>Midblock</td>\n",
       "      <td>PDO Minor</td>\n",
       "      <td>Sideswipe Same Dirn</td>\n",
       "      <td>Involving Overtaking</td>\n",
       "      <td>0</td>\n",
       "      <td>0</td>\n",
       "      <td>0</td>\n",
       "      <td>0</td>\n",
       "      <td>2</td>\n",
       "      <td>0</td>\n",
       "    </tr>\n",
       "    <tr>\n",
       "      <th>4</th>\n",
       "      <td>115.949014</td>\n",
       "      <td>-31.906427</td>\n",
       "      <td>27585444</td>\n",
       "      <td>10231318</td>\n",
       "      <td>1110017</td>\n",
       "      <td>Palmerston St</td>\n",
       "      <td>Palmerston St</td>\n",
       "      <td>S</td>\n",
       "      <td>0.47</td>\n",
       "      <td>37514.0</td>\n",
       "      <td>...</td>\n",
       "      <td>Intersection</td>\n",
       "      <td>PDO Major</td>\n",
       "      <td>Right Angle</td>\n",
       "      <td>NaN</td>\n",
       "      <td>0</td>\n",
       "      <td>0</td>\n",
       "      <td>0</td>\n",
       "      <td>0</td>\n",
       "      <td>2</td>\n",
       "      <td>0</td>\n",
       "    </tr>\n",
       "  </tbody>\n",
       "</table>\n",
       "<p>5 rows × 25 columns</p>\n",
       "</div>"
      ]
     },
     "metadata": {},
     "execution_count": 2
    }
   ],
   "metadata": {}
  },
  {
   "cell_type": "code",
   "execution_count": 3,
   "source": [
    "severity_groupby=crash_data.groupby(\"SEVERITY\")\r\n",
    "severity_count=severity_groupby[\"ACC_ID\"].nunique()\r\n",
    "severity_count\r\n"
   ],
   "outputs": [
    {
     "output_type": "execute_result",
     "data": {
      "text/plain": [
       "SEVERITY\n",
       "Fatal          746\n",
       "Hospital      6928\n",
       "Medical      17779\n",
       "PDO Major    72991\n",
       "PDO Minor    38232\n",
       "Name: ACC_ID, dtype: int64"
      ]
     },
     "metadata": {},
     "execution_count": 3
    }
   ],
   "metadata": {}
  },
  {
   "cell_type": "code",
   "execution_count": 4,
   "source": [
    "crash_count = len(crash_data[\"ACC_ID\"].unique())\r\n",
    "crash_count\r\n"
   ],
   "outputs": [
    {
     "output_type": "execute_result",
     "data": {
      "text/plain": [
       "136676"
      ]
     },
     "metadata": {},
     "execution_count": 4
    }
   ],
   "metadata": {}
  },
  {
   "cell_type": "code",
   "execution_count": 5,
   "source": [
    "fatal = crash_data.loc[crash_data[\"SEVERITY\"] == \"Fatal\"]\r\n",
    "fatal_count = len(fatal[\"ACC_ID\"].unique())\r\n",
    "fatal_count\r\n",
    "\r\n",
    "hospital = crash_data.loc[crash_data[\"SEVERITY\"] == \"Hospital\"]\r\n",
    "hospital_count = len(hospital[\"ACC_ID\"].unique())\r\n",
    "hospital_count  \r\n",
    "\r\n",
    "medical = crash_data.loc[crash_data[\"SEVERITY\"] == \"Medical\"]\r\n",
    "medical_count = len(medical[\"ACC_ID\"].unique())\r\n",
    "medical_count\r\n",
    "\r\n",
    "PDO_MAJOR = crash_data.loc[crash_data[\"SEVERITY\"] == \"PDO Major\"]\r\n",
    "major_count = len(PDO_MAJOR[\"ACC_ID\"].unique())\r\n",
    "major_count\r\n",
    "\r\n",
    "PDO_MINOR = crash_data.loc[crash_data[\"SEVERITY\"] == \"PDO Minor\"]\r\n",
    "minor_count = len(PDO_MINOR[\"ACC_ID\"].unique())\r\n",
    "minor_count\r\n",
    "\r\n",
    "fatal_percentage = \"{:.2f}%\".format(fatal_count / crash_count * 100)\r\n",
    "fatal_percentage\r\n",
    "\r\n",
    "hospital_percentage = \"{:.2f}%\".format(hospital_count / crash_count * 100)\r\n",
    "hospital_percentage\r\n",
    "\r\n",
    "medical_percentage = \"{:.2f}%\".format(medical_count / crash_count * 100)\r\n",
    "medical_percentage\r\n",
    "\r\n",
    "major_percentage = \"{:.2f}%\".format(major_count / crash_count * 100)\r\n",
    "major_percentage\r\n",
    "\r\n",
    "minor_percentage = \"{:.2f}%\".format(minor_count / crash_count * 100)\r\n",
    "minor_percentage\r\n",
    "\r\n",
    "severity_summary = pd.DataFrame({\r\n",
    "    \"severity category\":[\"Fatal\", \"Hospital\", \"Medical\", \"PDO Major\", \"PDO Minor\"],\r\n",
    "    \"Total Count\":[fatal_count, hospital_count, medical_count, major_count, minor_count],\r\n",
    "    \"Percentage of Severity\":[fatal_percentage, hospital_percentage, medical_percentage, major_percentage, minor_percentage],})\r\n",
    "\r\n",
    "severity_summary=severity_summary.set_index(\"severity category\")\r\n",
    "severity_summary.index.name = None\r\n",
    "severity_summary\r\n"
   ],
   "outputs": [
    {
     "output_type": "execute_result",
     "data": {
      "text/plain": [
       "           Total Count Percentage of Severity\n",
       "Fatal              746                  0.55%\n",
       "Hospital          6928                  5.07%\n",
       "Medical          17779                 13.01%\n",
       "PDO Major        72991                 53.40%\n",
       "PDO Minor        38232                 27.97%"
      ],
      "text/html": [
       "<div>\n",
       "<style scoped>\n",
       "    .dataframe tbody tr th:only-of-type {\n",
       "        vertical-align: middle;\n",
       "    }\n",
       "\n",
       "    .dataframe tbody tr th {\n",
       "        vertical-align: top;\n",
       "    }\n",
       "\n",
       "    .dataframe thead th {\n",
       "        text-align: right;\n",
       "    }\n",
       "</style>\n",
       "<table border=\"1\" class=\"dataframe\">\n",
       "  <thead>\n",
       "    <tr style=\"text-align: right;\">\n",
       "      <th></th>\n",
       "      <th>Total Count</th>\n",
       "      <th>Percentage of Severity</th>\n",
       "    </tr>\n",
       "  </thead>\n",
       "  <tbody>\n",
       "    <tr>\n",
       "      <th>Fatal</th>\n",
       "      <td>746</td>\n",
       "      <td>0.55%</td>\n",
       "    </tr>\n",
       "    <tr>\n",
       "      <th>Hospital</th>\n",
       "      <td>6928</td>\n",
       "      <td>5.07%</td>\n",
       "    </tr>\n",
       "    <tr>\n",
       "      <th>Medical</th>\n",
       "      <td>17779</td>\n",
       "      <td>13.01%</td>\n",
       "    </tr>\n",
       "    <tr>\n",
       "      <th>PDO Major</th>\n",
       "      <td>72991</td>\n",
       "      <td>53.40%</td>\n",
       "    </tr>\n",
       "    <tr>\n",
       "      <th>PDO Minor</th>\n",
       "      <td>38232</td>\n",
       "      <td>27.97%</td>\n",
       "    </tr>\n",
       "  </tbody>\n",
       "</table>\n",
       "</div>"
      ]
     },
     "metadata": {},
     "execution_count": 5
    }
   ],
   "metadata": {}
  },
  {
   "cell_type": "code",
   "execution_count": 6,
   "source": [
    "severity_data = crash_data.groupby('SEVERITY').count()['ACC_ID']\r\n",
    "severity_df = pd.DataFrame(severity_data)\r\n",
    "severity_df\r\n",
    "\r\n",
    "plt.pie(severity_data,labels=severity_data.index,autopct='%.2f%%',\r\n",
    "    wedgeprops={'linewidth': 3.0, 'edgecolor': 'white'},\r\n",
    "    textprops={'size': 'x-large'})\r\n",
    "plt.title('Severity Distribution')\r\n",
    "plt.ylabel('ACC_ID')\r\n",
    "plt.show()"
   ],
   "outputs": [
    {
     "output_type": "display_data",
     "data": {
      "text/plain": [
       "<Figure size 432x288 with 1 Axes>"
      ],
      "image/png": "[encoded data removed]"
     },
     "metadata": {}
    }
   ],
   "metadata": {}
  },
  {
   "cell_type": "code",
   "execution_count": 7,
   "source": [
    "severity_summary.describe()"
   ],
   "outputs": [
    {
     "output_type": "execute_result",
     "data": {
      "text/plain": [
       "        Total Count\n",
       "count      5.000000\n",
       "mean   27335.200000\n",
       "std    29231.629491\n",
       "min      746.000000\n",
       "25%     6928.000000\n",
       "50%    17779.000000\n",
       "75%    38232.000000\n",
       "max    72991.000000"
      ],
      "text/html": [
       "<div>\n",
       "<style scoped>\n",
       "    .dataframe tbody tr th:only-of-type {\n",
       "        vertical-align: middle;\n",
       "    }\n",
       "\n",
       "    .dataframe tbody tr th {\n",
       "        vertical-align: top;\n",
       "    }\n",
       "\n",
       "    .dataframe thead th {\n",
       "        text-align: right;\n",
       "    }\n",
       "</style>\n",
       "<table border=\"1\" class=\"dataframe\">\n",
       "  <thead>\n",
       "    <tr style=\"text-align: right;\">\n",
       "      <th></th>\n",
       "      <th>Total Count</th>\n",
       "    </tr>\n",
       "  </thead>\n",
       "  <tbody>\n",
       "    <tr>\n",
       "      <th>count</th>\n",
       "      <td>5.000000</td>\n",
       "    </tr>\n",
       "    <tr>\n",
       "      <th>mean</th>\n",
       "      <td>27335.200000</td>\n",
       "    </tr>\n",
       "    <tr>\n",
       "      <th>std</th>\n",
       "      <td>29231.629491</td>\n",
       "    </tr>\n",
       "    <tr>\n",
       "      <th>min</th>\n",
       "      <td>746.000000</td>\n",
       "    </tr>\n",
       "    <tr>\n",
       "      <th>25%</th>\n",
       "      <td>6928.000000</td>\n",
       "    </tr>\n",
       "    <tr>\n",
       "      <th>50%</th>\n",
       "      <td>17779.000000</td>\n",
       "    </tr>\n",
       "    <tr>\n",
       "      <th>75%</th>\n",
       "      <td>38232.000000</td>\n",
       "    </tr>\n",
       "    <tr>\n",
       "      <th>max</th>\n",
       "      <td>72991.000000</td>\n",
       "    </tr>\n",
       "  </tbody>\n",
       "</table>\n",
       "</div>"
      ]
     },
     "metadata": {},
     "execution_count": 7
    }
   ],
   "metadata": {}
  },
  {
   "cell_type": "code",
   "execution_count": 8,
   "source": [
    "bar_plot_data = severity_summary.plot.bar(rot='vertical',title='Count of accident per severity')\r\n",
    "\r\n",
    "bar_plot_data.set_xlabel(\"Severity\")\r\n",
    "bar_plot_data.set_ylabel(\"Count of Accidents\")"
   ],
   "outputs": [
    {
     "output_type": "execute_result",
     "data": {
      "text/plain": [
       "Text(0, 0.5, 'Count of Accidents')"
      ]
     },
     "metadata": {},
     "execution_count": 8
    },
    {
     "output_type": "display_data",
     "data": {
      "text/plain": [
       "<Figure size 432x288 with 1 Axes>"
      ],
      "image/png": "[encoded data removed]"
     },
     "metadata": {
      "needs_background": "light"
     }
    }
   ],
   "metadata": {}
  },
  {
   "cell_type": "code",
   "execution_count": 9,
   "source": [
    "crash_data[[\"day\", \"month\", \"year\"]] = crash_data[\"CRASH_DATE\"].str.split(\"/\", expand = True)\r\n",
    "crash_data.head()"
   ],
   "outputs": [
    {
     "output_type": "execute_result",
     "data": {
      "text/plain": [
       "            X          Y  OBJECTID    ACC_ID  ROAD_NO  \\\n",
       "0  115.792274 -32.029452  27585440  10231294  1190012   \n",
       "1  115.821106 -31.901343  27585441  10231300     H561   \n",
       "2  115.970937 -32.066115  27585442  10231306  1040003   \n",
       "3  115.852685 -31.952160  27585443  10231312  1240111   \n",
       "4  115.949014 -31.906427  27585444  10231318  1110017   \n",
       "\n",
       "                                   ROAD_NAME  \\\n",
       "0                           Preston Point Rd   \n",
       "1  Hutton St on to Mitchell Fwy (Southbound)   \n",
       "2                                 Spencer Rd   \n",
       "3                                     Hay St   \n",
       "4                              Palmerston St   \n",
       "\n",
       "                            COMMON_ROAD_NAME CWAY   SLK  INTERSECTION_NO  ...  \\\n",
       "0                           Preston Point Rd    S  0.86          47160.0  ...   \n",
       "1  Hutton St on to Mitchell Fwy (Southbound)    S  0.00           4347.0  ...   \n",
       "2                                 Spencer Rd    L  4.97          43773.0  ...   \n",
       "3                                     Hay St    S  2.92              NaN  ...   \n",
       "4                              Palmerston St    S  0.47          37514.0  ...   \n",
       "\n",
       "             EVENT_TYPE  TOTAL_BIKE_INVOLVED  TOTAL_TRUCK_INVOLVED  \\\n",
       "0                   NaN                    0                     0   \n",
       "1                   NaN                    0                     0   \n",
       "2  Involving Overtaking                    0                     0   \n",
       "3  Involving Overtaking                    0                     0   \n",
       "4                   NaN                    0                     0   \n",
       "\n",
       "  TOTAL_HEAVY_TRUCK_INVOLVED  TOTAL_MOTOR_CYCLE_INVOLVED  \\\n",
       "0                          0                           0   \n",
       "1                          0                           0   \n",
       "2                          0                           0   \n",
       "3                          0                           0   \n",
       "4                          0                           0   \n",
       "\n",
       "  TOTAL_OTHER_VEHICLES_INVOLVED TOTAL_PEDESTRIANS_INVOLVED day month  year  \n",
       "0                             2                          0  07    05  2020  \n",
       "1                             2                          0  07    05  2020  \n",
       "2                             2                          0  06    05  2020  \n",
       "3                             2                          0  06    05  2020  \n",
       "4                             2                          0  04    05  2020  \n",
       "\n",
       "[5 rows x 28 columns]"
      ],
      "text/html": [
       "<div>\n",
       "<style scoped>\n",
       "    .dataframe tbody tr th:only-of-type {\n",
       "        vertical-align: middle;\n",
       "    }\n",
       "\n",
       "    .dataframe tbody tr th {\n",
       "        vertical-align: top;\n",
       "    }\n",
       "\n",
       "    .dataframe thead th {\n",
       "        text-align: right;\n",
       "    }\n",
       "</style>\n",
       "<table border=\"1\" class=\"dataframe\">\n",
       "  <thead>\n",
       "    <tr style=\"text-align: right;\">\n",
       "      <th></th>\n",
       "      <th>X</th>\n",
       "      <th>Y</th>\n",
       "      <th>OBJECTID</th>\n",
       "      <th>ACC_ID</th>\n",
       "      <th>ROAD_NO</th>\n",
       "      <th>ROAD_NAME</th>\n",
       "      <th>COMMON_ROAD_NAME</th>\n",
       "      <th>CWAY</th>\n",
       "      <th>SLK</th>\n",
       "      <th>INTERSECTION_NO</th>\n",
       "      <th>...</th>\n",
       "      <th>EVENT_TYPE</th>\n",
       "      <th>TOTAL_BIKE_INVOLVED</th>\n",
       "      <th>TOTAL_TRUCK_INVOLVED</th>\n",
       "      <th>TOTAL_HEAVY_TRUCK_INVOLVED</th>\n",
       "      <th>TOTAL_MOTOR_CYCLE_INVOLVED</th>\n",
       "      <th>TOTAL_OTHER_VEHICLES_INVOLVED</th>\n",
       "      <th>TOTAL_PEDESTRIANS_INVOLVED</th>\n",
       "      <th>day</th>\n",
       "      <th>month</th>\n",
       "      <th>year</th>\n",
       "    </tr>\n",
       "  </thead>\n",
       "  <tbody>\n",
       "    <tr>\n",
       "      <th>0</th>\n",
       "      <td>115.792274</td>\n",
       "      <td>-32.029452</td>\n",
       "      <td>27585440</td>\n",
       "      <td>10231294</td>\n",
       "      <td>1190012</td>\n",
       "      <td>Preston Point Rd</td>\n",
       "      <td>Preston Point Rd</td>\n",
       "      <td>S</td>\n",
       "      <td>0.86</td>\n",
       "      <td>47160.0</td>\n",
       "      <td>...</td>\n",
       "      <td>NaN</td>\n",
       "      <td>0</td>\n",
       "      <td>0</td>\n",
       "      <td>0</td>\n",
       "      <td>0</td>\n",
       "      <td>2</td>\n",
       "      <td>0</td>\n",
       "      <td>07</td>\n",
       "      <td>05</td>\n",
       "      <td>2020</td>\n",
       "    </tr>\n",
       "    <tr>\n",
       "      <th>1</th>\n",
       "      <td>115.821106</td>\n",
       "      <td>-31.901343</td>\n",
       "      <td>27585441</td>\n",
       "      <td>10231300</td>\n",
       "      <td>H561</td>\n",
       "      <td>Hutton St on to Mitchell Fwy (Southbound)</td>\n",
       "      <td>Hutton St on to Mitchell Fwy (Southbound)</td>\n",
       "      <td>S</td>\n",
       "      <td>0.00</td>\n",
       "      <td>4347.0</td>\n",
       "      <td>...</td>\n",
       "      <td>NaN</td>\n",
       "      <td>0</td>\n",
       "      <td>0</td>\n",
       "      <td>0</td>\n",
       "      <td>0</td>\n",
       "      <td>2</td>\n",
       "      <td>0</td>\n",
       "      <td>07</td>\n",
       "      <td>05</td>\n",
       "      <td>2020</td>\n",
       "    </tr>\n",
       "    <tr>\n",
       "      <th>2</th>\n",
       "      <td>115.970937</td>\n",
       "      <td>-32.066115</td>\n",
       "      <td>27585442</td>\n",
       "      <td>10231306</td>\n",
       "      <td>1040003</td>\n",
       "      <td>Spencer Rd</td>\n",
       "      <td>Spencer Rd</td>\n",
       "      <td>L</td>\n",
       "      <td>4.97</td>\n",
       "      <td>43773.0</td>\n",
       "      <td>...</td>\n",
       "      <td>Involving Overtaking</td>\n",
       "      <td>0</td>\n",
       "      <td>0</td>\n",
       "      <td>0</td>\n",
       "      <td>0</td>\n",
       "      <td>2</td>\n",
       "      <td>0</td>\n",
       "      <td>06</td>\n",
       "      <td>05</td>\n",
       "      <td>2020</td>\n",
       "    </tr>\n",
       "    <tr>\n",
       "      <th>3</th>\n",
       "      <td>115.852685</td>\n",
       "      <td>-31.952160</td>\n",
       "      <td>27585443</td>\n",
       "      <td>10231312</td>\n",
       "      <td>1240111</td>\n",
       "      <td>Hay St</td>\n",
       "      <td>Hay St</td>\n",
       "      <td>S</td>\n",
       "      <td>2.92</td>\n",
       "      <td>NaN</td>\n",
       "      <td>...</td>\n",
       "      <td>Involving Overtaking</td>\n",
       "      <td>0</td>\n",
       "      <td>0</td>\n",
       "      <td>0</td>\n",
       "      <td>0</td>\n",
       "      <td>2</td>\n",
       "      <td>0</td>\n",
       "      <td>06</td>\n",
       "      <td>05</td>\n",
       "      <td>2020</td>\n",
       "    </tr>\n",
       "    <tr>\n",
       "      <th>4</th>\n",
       "      <td>115.949014</td>\n",
       "      <td>-31.906427</td>\n",
       "      <td>27585444</td>\n",
       "      <td>10231318</td>\n",
       "      <td>1110017</td>\n",
       "      <td>Palmerston St</td>\n",
       "      <td>Palmerston St</td>\n",
       "      <td>S</td>\n",
       "      <td>0.47</td>\n",
       "      <td>37514.0</td>\n",
       "      <td>...</td>\n",
       "      <td>NaN</td>\n",
       "      <td>0</td>\n",
       "      <td>0</td>\n",
       "      <td>0</td>\n",
       "      <td>0</td>\n",
       "      <td>2</td>\n",
       "      <td>0</td>\n",
       "      <td>04</td>\n",
       "      <td>05</td>\n",
       "      <td>2020</td>\n",
       "    </tr>\n",
       "  </tbody>\n",
       "</table>\n",
       "<p>5 rows × 28 columns</p>\n",
       "</div>"
      ]
     },
     "metadata": {},
     "execution_count": 9
    }
   ],
   "metadata": {}
  },
  {
   "cell_type": "code",
   "execution_count": 10,
   "source": [
    "severity_year_groupby = crash_data.groupby([\"SEVERITY\"])[\"year\"].value_counts()\r\n",
    "severity_year_groupby\r\n"
   ],
   "outputs": [
    {
     "output_type": "execute_result",
     "data": {
      "text/plain": [
       "SEVERITY   year\n",
       "Fatal      2016      171\n",
       "           2019      152\n",
       "           2017      146\n",
       "           2018      143\n",
       "           2020      134\n",
       "Hospital   2016     1430\n",
       "           2018     1427\n",
       "           2017     1423\n",
       "           2019     1345\n",
       "           2020     1303\n",
       "Medical    2016     4115\n",
       "           2017     3681\n",
       "           2018     3461\n",
       "           2020     3356\n",
       "           2019     3166\n",
       "PDO Major  2016    15938\n",
       "           2018    15162\n",
       "           2017    15037\n",
       "           2019    14756\n",
       "           2020    12098\n",
       "PDO Minor  2016     8763\n",
       "           2017     7734\n",
       "           2019     7686\n",
       "           2018     7654\n",
       "           2020     6395\n",
       "Name: year, dtype: int64"
      ]
     },
     "metadata": {},
     "execution_count": 10
    }
   ],
   "metadata": {}
  },
  {
   "cell_type": "code",
   "execution_count": 11,
   "source": [
    "severity_type_groupby = crash_data.groupby([\"SEVERITY\"])[\"ACCIDENT_TYPE\"].value_counts()\r\n",
    "severity_type_groupby"
   ],
   "outputs": [
    {
     "output_type": "execute_result",
     "data": {
      "text/plain": [
       "SEVERITY   ACCIDENT_TYPE\n",
       "Fatal      Midblock           607\n",
       "           Intersection       139\n",
       "Hospital   Midblock          3958\n",
       "           Intersection      2970\n",
       "Medical    Intersection     11022\n",
       "           Midblock          6757\n",
       "PDO Major  Intersection     38988\n",
       "           Midblock         34003\n",
       "PDO Minor  Midblock         19202\n",
       "           Intersection     19030\n",
       "Name: ACCIDENT_TYPE, dtype: int64"
      ]
     },
     "metadata": {},
     "execution_count": 11
    }
   ],
   "metadata": {}
  },
  {
   "cell_type": "code",
   "execution_count": 12,
   "source": [
    "bar_plot_data = severity_type_groupby.plot.bar(rot='vertical',title='Count of accident per severity')"
   ],
   "outputs": [
    {
     "output_type": "display_data",
     "data": {
      "text/plain": [
       "<Figure size 432x288 with 1 Axes>"
      ],
      "image/png": "[encoded data removed]"
     },
     "metadata": {
      "needs_background": "light"
     }
    }
   ],
   "metadata": {}
  },
  {
   "cell_type": "code",
   "execution_count": 14,
   "source": [
    "midblock = crash_data.loc[crash_data[\"ACCIDENT_TYPE\"] == \"Midblock\"]\r\n",
    "midblock_count = len(midblock[\"ACC_ID\"].unique())\r\n",
    "midblock_count\r\n",
    "\r\n",
    "intersection = crash_data.loc[crash_data[\"ACCIDENT_TYPE\"] == \"Intersection\"]\r\n",
    "intersection_count = len(intersection[\"ACC_ID\"].unique())\r\n",
    "intersection_count \r\n",
    "\r\n",
    "midblock_percentage = \"{:.2f}%\".format(midblock_count / crash_count * 100)\r\n",
    "midblock_percentage\r\n",
    "\r\n",
    "intersection_percentage = \"{:.2f}%\".format(intersection_count / crash_count * 100)\r\n",
    "intersection_percentage\r\n",
    "\r\n",
    "accident_summary = pd.DataFrame({\r\n",
    "    \"accident type category\":[\"Midblock\", \"Intersection\"],\r\n",
    "    \"Total Count\":[midblock_count, intersection_count],\r\n",
    "    \"Percentage of Accident Type\":[midblock_percentage, intersection_percentage],})\r\n",
    "\r\n",
    "accident_summary"
   ],
   "outputs": [
    {
     "output_type": "execute_result",
     "data": {
      "text/plain": [
       "  accident type category  Total Count Percentage of Accident Type\n",
       "0               Midblock        64527                      47.21%\n",
       "1           Intersection        72149                      52.79%"
      ],
      "text/html": [
       "<div>\n",
       "<style scoped>\n",
       "    .dataframe tbody tr th:only-of-type {\n",
       "        vertical-align: middle;\n",
       "    }\n",
       "\n",
       "    .dataframe tbody tr th {\n",
       "        vertical-align: top;\n",
       "    }\n",
       "\n",
       "    .dataframe thead th {\n",
       "        text-align: right;\n",
       "    }\n",
       "</style>\n",
       "<table border=\"1\" class=\"dataframe\">\n",
       "  <thead>\n",
       "    <tr style=\"text-align: right;\">\n",
       "      <th></th>\n",
       "      <th>accident type category</th>\n",
       "      <th>Total Count</th>\n",
       "      <th>Percentage of Accident Type</th>\n",
       "    </tr>\n",
       "  </thead>\n",
       "  <tbody>\n",
       "    <tr>\n",
       "      <th>0</th>\n",
       "      <td>Midblock</td>\n",
       "      <td>64527</td>\n",
       "      <td>47.21%</td>\n",
       "    </tr>\n",
       "    <tr>\n",
       "      <th>1</th>\n",
       "      <td>Intersection</td>\n",
       "      <td>72149</td>\n",
       "      <td>52.79%</td>\n",
       "    </tr>\n",
       "  </tbody>\n",
       "</table>\n",
       "</div>"
      ]
     },
     "metadata": {},
     "execution_count": 14
    }
   ],
   "metadata": {}
  },
  {
   "cell_type": "code",
   "execution_count": 31,
   "source": [
    "critical_value = st.chi2.ppf(q=0.95, df = 1)\r\n",
    "critical_value"
   ],
   "outputs": [
    {
     "output_type": "execute_result",
     "data": {
      "text/plain": [
       "3.841458820694124"
      ]
     },
     "metadata": {},
     "execution_count": 31
    }
   ],
   "metadata": {}
  },
  {
   "cell_type": "code",
   "execution_count": 38,
   "source": [
    "accident_data = crash_data.groupby('ACCIDENT_TYPE').count()['ACC_ID']\r\n",
    "accident_df = pd.DataFrame(accident_data)\r\n",
    "\r\n",
    "accident_stats = pd.DataFrame({\r\n",
    "    \"accident type category\":[\"Midblock\", \"Intersection\"],\r\n",
    "    \"observed\":[midblock_count, intersection_count],\r\n",
    "    \"expected\":[68338, 68338],})\r\n",
    "accident_stats\r\n"
   ],
   "outputs": [
    {
     "output_type": "execute_result",
     "data": {
      "text/plain": [
       "  accident type category  observed  expected\n",
       "0               Midblock     64527     68338\n",
       "1           Intersection     72149     68338"
      ],
      "text/html": [
       "<div>\n",
       "<style scoped>\n",
       "    .dataframe tbody tr th:only-of-type {\n",
       "        vertical-align: middle;\n",
       "    }\n",
       "\n",
       "    .dataframe tbody tr th {\n",
       "        vertical-align: top;\n",
       "    }\n",
       "\n",
       "    .dataframe thead th {\n",
       "        text-align: right;\n",
       "    }\n",
       "</style>\n",
       "<table border=\"1\" class=\"dataframe\">\n",
       "  <thead>\n",
       "    <tr style=\"text-align: right;\">\n",
       "      <th></th>\n",
       "      <th>accident type category</th>\n",
       "      <th>observed</th>\n",
       "      <th>expected</th>\n",
       "    </tr>\n",
       "  </thead>\n",
       "  <tbody>\n",
       "    <tr>\n",
       "      <th>0</th>\n",
       "      <td>Midblock</td>\n",
       "      <td>64527</td>\n",
       "      <td>68338</td>\n",
       "    </tr>\n",
       "    <tr>\n",
       "      <th>1</th>\n",
       "      <td>Intersection</td>\n",
       "      <td>72149</td>\n",
       "      <td>68338</td>\n",
       "    </tr>\n",
       "  </tbody>\n",
       "</table>\n",
       "</div>"
      ]
     },
     "metadata": {},
     "execution_count": 38
    }
   ],
   "metadata": {}
  },
  {
   "cell_type": "code",
   "execution_count": 30,
   "source": [
    "st.chisquare(accident_stats['observed'], accident_stats['expected'])\r\n",
    "\r\n",
    "#reject null hypothesis - we conclude that the differences seen in number of accidents per type of accident are statistically significant.accident_stats"
   ],
   "outputs": [
    {
     "output_type": "execute_result",
     "data": {
      "text/plain": [
       "Power_divergenceResult(statistic=425.0554888934414, pvalue=1.9367554530148811e-94)"
      ]
     },
     "metadata": {},
     "execution_count": 30
    }
   ],
   "metadata": {}
  },
  {
   "cell_type": "code",
   "execution_count": 34,
   "source": [
    "bar_plot_data = accident_data.plot.bar(rot='vertical',title='Count of accident per type of road')"
   ],
   "outputs": [
    {
     "output_type": "display_data",
     "data": {
      "text/plain": [
       "<Figure size 432x288 with 1 Axes>"
      ],
      "image/png": "[encoded data removed]"
     },
     "metadata": {
      "needs_background": "light"
     }
    }
   ],
   "metadata": {}
  },
  {
   "cell_type": "code",
   "execution_count": 41,
   "source": [
    "severity_bike_groupby = crash_data.groupby([\"SEVERITY\"])[\"TOTAL_BIKE_INVOLVED\"].sum()\r\n",
    "severity_bike_groupby"
   ],
   "outputs": [
    {
     "output_type": "execute_result",
     "data": {
      "text/plain": [
       "SEVERITY\n",
       "Fatal          25\n",
       "Hospital      505\n",
       "Medical       676\n",
       "PDO Major     297\n",
       "PDO Minor    1457\n",
       "Name: TOTAL_BIKE_INVOLVED, dtype: int64"
      ]
     },
     "metadata": {},
     "execution_count": 41
    }
   ],
   "metadata": {}
  }
 ],
 "metadata": {
  "anaconda-cloud": {},
  "kernelspec": {
   "name": "python3",
   "display_name": "Python 3.6.10 64-bit ('PythonData': conda)"
  },
  "language_info": {
   "codemirror_mode": {
    "name": "ipython",
    "version": 3
   },
   "file_extension": ".py",
   "mimetype": "text/x-python",
   "name": "python",
   "nbconvert_exporter": "python",
   "pygments_lexer": "ipython3",
   "version": "3.6.10"
  },
  "interpreter": {
   "hash": "c5cbe9acbcb3206eacc84b3354bbe9b13645e1cd0312af79e74c1ac4828e2df8"
  }
 },
 "nbformat": 4,
 "nbformat_minor": 2
}