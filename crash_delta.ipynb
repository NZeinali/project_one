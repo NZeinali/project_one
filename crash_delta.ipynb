{
 "cells": [
  {
   "cell_type": "markdown",
   "source": [],
   "metadata": {}
  },
  {
   "cell_type": "code",
   "execution_count": 1,
   "source": [
    "import pandas as pd\r\n",
    "import matplotlib.pyplot as plt\r\n",
    "import scipy.stats as st\r\n",
    "\r\n",
    "file_to_load = \"crash_info.csv\"\r\n",
    "\r\n",
    "# Read Purchasing File and store into Pandas data frame\r\n",
    "traffic_df = pd.read_csv(file_to_load)\r\n",
    "traffic_df.head()"
   ],
   "outputs": [
    {
     "output_type": "execute_result",
     "data": {
      "text/plain": [
       "            X          Y  OBJECTID    ACC_ID  ROAD_NO  \\\n",
       "0  115.792274 -32.029452  27585440  10231294  1190012   \n",
       "1  115.821106 -31.901343  27585441  10231300     H561   \n",
       "2  115.970937 -32.066115  27585442  10231306  1040003   \n",
       "3  115.852685 -31.952160  27585443  10231312  1240111   \n",
       "4  115.949014 -31.906427  27585444  10231318  1110017   \n",
       "\n",
       "                                   ROAD_NAME  \\\n",
       "0                           Preston Point Rd   \n",
       "1  Hutton St on to Mitchell Fwy (Southbound)   \n",
       "2                                 Spencer Rd   \n",
       "3                                     Hay St   \n",
       "4                              Palmerston St   \n",
       "\n",
       "                            COMMON_ROAD_NAME CWAY   SLK  INTERSECTION_NO  ...  \\\n",
       "0                           Preston Point Rd    S  0.86          47160.0  ...   \n",
       "1  Hutton St on to Mitchell Fwy (Southbound)    S  0.00           4347.0  ...   \n",
       "2                                 Spencer Rd    L  4.97          43773.0  ...   \n",
       "3                                     Hay St    S  2.92              NaN  ...   \n",
       "4                              Palmerston St    S  0.47          37514.0  ...   \n",
       "\n",
       "  ACCIDENT_TYPE   SEVERITY         EVENT_NATURE            EVENT_TYPE  \\\n",
       "0  Intersection  PDO Major          Right Angle                   NaN   \n",
       "1  Intersection  PDO Major             Rear End                   NaN   \n",
       "2  Intersection  PDO Major  Sideswipe Same Dirn  Involving Overtaking   \n",
       "3      Midblock  PDO Minor  Sideswipe Same Dirn  Involving Overtaking   \n",
       "4  Intersection  PDO Major          Right Angle                   NaN   \n",
       "\n",
       "   TOTAL_BIKE_INVOLVED TOTAL_TRUCK_INVOLVED TOTAL_HEAVY_TRUCK_INVOLVED  \\\n",
       "0                    0                    0                          0   \n",
       "1                    0                    0                          0   \n",
       "2                    0                    0                          0   \n",
       "3                    0                    0                          0   \n",
       "4                    0                    0                          0   \n",
       "\n",
       "  TOTAL_MOTOR_CYCLE_INVOLVED TOTAL_OTHER_VEHICLES_INVOLVED  \\\n",
       "0                          0                             2   \n",
       "1                          0                             2   \n",
       "2                          0                             2   \n",
       "3                          0                             2   \n",
       "4                          0                             2   \n",
       "\n",
       "   TOTAL_PEDESTRIANS_INVOLVED  \n",
       "0                           0  \n",
       "1                           0  \n",
       "2                           0  \n",
       "3                           0  \n",
       "4                           0  \n",
       "\n",
       "[5 rows x 25 columns]"
      ],
      "text/html": [
       "<div>\n",
       "<style scoped>\n",
       "    .dataframe tbody tr th:only-of-type {\n",
       "        vertical-align: middle;\n",
       "    }\n",
       "\n",
       "    .dataframe tbody tr th {\n",
       "        vertical-align: top;\n",
       "    }\n",
       "\n",
       "    .dataframe thead th {\n",
       "        text-align: right;\n",
       "    }\n",
       "</style>\n",
       "<table border=\"1\" class=\"dataframe\">\n",
       "  <thead>\n",
       "    <tr style=\"text-align: right;\">\n",
       "      <th></th>\n",
       "      <th>X</th>\n",
       "      <th>Y</th>\n",
       "      <th>OBJECTID</th>\n",
       "      <th>ACC_ID</th>\n",
       "      <th>ROAD_NO</th>\n",
       "      <th>ROAD_NAME</th>\n",
       "      <th>COMMON_ROAD_NAME</th>\n",
       "      <th>CWAY</th>\n",
       "      <th>SLK</th>\n",
       "      <th>INTERSECTION_NO</th>\n",
       "      <th>...</th>\n",
       "      <th>ACCIDENT_TYPE</th>\n",
       "      <th>SEVERITY</th>\n",
       "      <th>EVENT_NATURE</th>\n",
       "      <th>EVENT_TYPE</th>\n",
       "      <th>TOTAL_BIKE_INVOLVED</th>\n",
       "      <th>TOTAL_TRUCK_INVOLVED</th>\n",
       "      <th>TOTAL_HEAVY_TRUCK_INVOLVED</th>\n",
       "      <th>TOTAL_MOTOR_CYCLE_INVOLVED</th>\n",
       "      <th>TOTAL_OTHER_VEHICLES_INVOLVED</th>\n",
       "      <th>TOTAL_PEDESTRIANS_INVOLVED</th>\n",
       "    </tr>\n",
       "  </thead>\n",
       "  <tbody>\n",
       "    <tr>\n",
       "      <th>0</th>\n",
       "      <td>115.792274</td>\n",
       "      <td>-32.029452</td>\n",
       "      <td>27585440</td>\n",
       "      <td>10231294</td>\n",
       "      <td>1190012</td>\n",
       "      <td>Preston Point Rd</td>\n",
       "      <td>Preston Point Rd</td>\n",
       "      <td>S</td>\n",
       "      <td>0.86</td>\n",
       "      <td>47160.0</td>\n",
       "      <td>...</td>\n",
       "      <td>Intersection</td>\n",
       "      <td>PDO Major</td>\n",
       "      <td>Right Angle</td>\n",
       "      <td>NaN</td>\n",
       "      <td>0</td>\n",
       "      <td>0</td>\n",
       "      <td>0</td>\n",
       "      <td>0</td>\n",
       "      <td>2</td>\n",
       "      <td>0</td>\n",
       "    </tr>\n",
       "    <tr>\n",
       "      <th>1</th>\n",
       "      <td>115.821106</td>\n",
       "      <td>-31.901343</td>\n",
       "      <td>27585441</td>\n",
       "      <td>10231300</td>\n",
       "      <td>H561</td>\n",
       "      <td>Hutton St on to Mitchell Fwy (Southbound)</td>\n",
       "      <td>Hutton St on to Mitchell Fwy (Southbound)</td>\n",
       "      <td>S</td>\n",
       "      <td>0.00</td>\n",
       "      <td>4347.0</td>\n",
       "      <td>...</td>\n",
       "      <td>Intersection</td>\n",
       "      <td>PDO Major</td>\n",
       "      <td>Rear End</td>\n",
       "      <td>NaN</td>\n",
       "      <td>0</td>\n",
       "      <td>0</td>\n",
       "      <td>0</td>\n",
       "      <td>0</td>\n",
       "      <td>2</td>\n",
       "      <td>0</td>\n",
       "    </tr>\n",
       "    <tr>\n",
       "      <th>2</th>\n",
       "      <td>115.970937</td>\n",
       "      <td>-32.066115</td>\n",
       "      <td>27585442</td>\n",
       "      <td>10231306</td>\n",
       "      <td>1040003</td>\n",
       "      <td>Spencer Rd</td>\n",
       "      <td>Spencer Rd</td>\n",
       "      <td>L</td>\n",
       "      <td>4.97</td>\n",
       "      <td>43773.0</td>\n",
       "      <td>...</td>\n",
       "      <td>Intersection</td>\n",
       "      <td>PDO Major</td>\n",
       "      <td>Sideswipe Same Dirn</td>\n",
       "      <td>Involving Overtaking</td>\n",
       "      <td>0</td>\n",
       "      <td>0</td>\n",
       "      <td>0</td>\n",
       "      <td>0</td>\n",
       "      <td>2</td>\n",
       "      <td>0</td>\n",
       "    </tr>\n",
       "    <tr>\n",
       "      <th>3</th>\n",
       "      <td>115.852685</td>\n",
       "      <td>-31.952160</td>\n",
       "      <td>27585443</td>\n",
       "      <td>10231312</td>\n",
       "      <td>1240111</td>\n",
       "      <td>Hay St</td>\n",
       "      <td>Hay St</td>\n",
       "      <td>S</td>\n",
       "      <td>2.92</td>\n",
       "      <td>NaN</td>\n",
       "      <td>...</td>\n",
       "      <td>Midblock</td>\n",
       "      <td>PDO Minor</td>\n",
       "      <td>Sideswipe Same Dirn</td>\n",
       "      <td>Involving Overtaking</td>\n",
       "      <td>0</td>\n",
       "      <td>0</td>\n",
       "      <td>0</td>\n",
       "      <td>0</td>\n",
       "      <td>2</td>\n",
       "      <td>0</td>\n",
       "    </tr>\n",
       "    <tr>\n",
       "      <th>4</th>\n",
       "      <td>115.949014</td>\n",
       "      <td>-31.906427</td>\n",
       "      <td>27585444</td>\n",
       "      <td>10231318</td>\n",
       "      <td>1110017</td>\n",
       "      <td>Palmerston St</td>\n",
       "      <td>Palmerston St</td>\n",
       "      <td>S</td>\n",
       "      <td>0.47</td>\n",
       "      <td>37514.0</td>\n",
       "      <td>...</td>\n",
       "      <td>Intersection</td>\n",
       "      <td>PDO Major</td>\n",
       "      <td>Right Angle</td>\n",
       "      <td>NaN</td>\n",
       "      <td>0</td>\n",
       "      <td>0</td>\n",
       "      <td>0</td>\n",
       "      <td>0</td>\n",
       "      <td>2</td>\n",
       "      <td>0</td>\n",
       "    </tr>\n",
       "  </tbody>\n",
       "</table>\n",
       "<p>5 rows × 25 columns</p>\n",
       "</div>"
      ]
     },
     "metadata": {},
     "execution_count": 1
    }
   ],
   "metadata": {}
  },
  {
   "cell_type": "code",
   "execution_count": 8,
   "source": [
    "severity_groupby=traffic_df.groupby(\"SEVERITY\")\r\n",
    "severity_count=severity_groupby[\"ACC_ID\"].nunique()\r\n",
    "severity_count\r\n"
   ],
   "outputs": [
    {
     "output_type": "execute_result",
     "data": {
      "text/plain": [
       "SEVERITY\n",
       "Fatal          746\n",
       "Hospital      6928\n",
       "Medical      17779\n",
       "PDO Major    72991\n",
       "PDO Minor    38232\n",
       "Name: ACC_ID, dtype: int64"
      ]
     },
     "metadata": {},
     "execution_count": 8
    }
   ],
   "metadata": {}
  },
  {
   "cell_type": "code",
   "execution_count": 7,
   "source": [
    "fatal = traffic_df.loc[traffic_df[\"SEVERITY\"] == \"Fatal\"]\r\n",
    "fatal_count = len(fatal[\"ACC_ID\"].unique())\r\n",
    "fatal_count\r\n",
    "\r\n",
    "hospital = traffic_df.loc[traffic_df[\"SEVERITY\"] == \"Hospital\"]\r\n",
    "hospital_count = len(hospital[\"ACC_ID\"].unique())\r\n",
    "hospital_count  \r\n",
    "\r\n",
    "medical = traffic_df.loc[traffic_df[\"SEVERITY\"] == \"Medical\"]\r\n",
    "medical_count = len(medical[\"ACC_ID\"].unique())\r\n",
    "medical_count\r\n",
    "\r\n",
    "crash_count = fatal_count + hospital_count + medical_count\r\n",
    "\r\n",
    "fatal_percentage = \"{:.2f}%\".format(fatal_count / crash_count * 100)\r\n",
    "fatal_percentage\r\n",
    "\r\n",
    "hospital_percentage = \"{:.2f}%\".format(hospital_count / crash_count * 100)\r\n",
    "hospital_percentage\r\n",
    "\r\n",
    "medical_percentage = \"{:.2f}%\".format(medical_count / crash_count * 100)\r\n",
    "medical_percentage\r\n",
    "\r\n",
    "\r\n",
    "severity_summary = pd.DataFrame({\r\n",
    "    \"severity category\":[\"Fatal\", \"Hospital\", \"Medical\"],\r\n",
    "    \"Total Count\":[fatal_count, hospital_count, medical_count],\r\n",
    "    \"Percentage of Severity\":[fatal_percentage, hospital_percentage, medical_percentage],})\r\n",
    "\r\n",
    "severity_summary=severity_summary.set_index(\"severity category\")\r\n",
    "severity_summary\r\n"
   ],
   "outputs": [
    {
     "output_type": "execute_result",
     "data": {
      "text/plain": [
       "                   Total Count Percentage of Severity\n",
       "severity category                                    \n",
       "Fatal                      746                  2.93%\n",
       "Hospital                  6928                 27.22%\n",
       "Medical                  17779                 69.85%"
      ],
      "text/html": [
       "<div>\n",
       "<style scoped>\n",
       "    .dataframe tbody tr th:only-of-type {\n",
       "        vertical-align: middle;\n",
       "    }\n",
       "\n",
       "    .dataframe tbody tr th {\n",
       "        vertical-align: top;\n",
       "    }\n",
       "\n",
       "    .dataframe thead th {\n",
       "        text-align: right;\n",
       "    }\n",
       "</style>\n",
       "<table border=\"1\" class=\"dataframe\">\n",
       "  <thead>\n",
       "    <tr style=\"text-align: right;\">\n",
       "      <th></th>\n",
       "      <th>Total Count</th>\n",
       "      <th>Percentage of Severity</th>\n",
       "    </tr>\n",
       "    <tr>\n",
       "      <th>severity category</th>\n",
       "      <th></th>\n",
       "      <th></th>\n",
       "    </tr>\n",
       "  </thead>\n",
       "  <tbody>\n",
       "    <tr>\n",
       "      <th>Fatal</th>\n",
       "      <td>746</td>\n",
       "      <td>2.93%</td>\n",
       "    </tr>\n",
       "    <tr>\n",
       "      <th>Hospital</th>\n",
       "      <td>6928</td>\n",
       "      <td>27.22%</td>\n",
       "    </tr>\n",
       "    <tr>\n",
       "      <th>Medical</th>\n",
       "      <td>17779</td>\n",
       "      <td>69.85%</td>\n",
       "    </tr>\n",
       "  </tbody>\n",
       "</table>\n",
       "</div>"
      ]
     },
     "metadata": {},
     "execution_count": 7
    }
   ],
   "metadata": {}
  },
  {
   "cell_type": "code",
   "execution_count": 10,
   "source": [
    "severity_data = pd.DataFrame({\r\n",
    "    \"severity category\":[\"Fatal\", \"Hospital\", \"Medical\"],\r\n",
    "    \"Total Count\":[fatal_count, hospital_count, medical_count],})\r\n",
    "\r\n",
    "severity_data\r\n"
   ],
   "outputs": [
    {
     "output_type": "execute_result",
     "data": {
      "text/plain": [
       "  severity category  Total Count\n",
       "0             Fatal          746\n",
       "1          Hospital         6928\n",
       "2           Medical        17779"
      ],
      "text/html": [
       "<div>\n",
       "<style scoped>\n",
       "    .dataframe tbody tr th:only-of-type {\n",
       "        vertical-align: middle;\n",
       "    }\n",
       "\n",
       "    .dataframe tbody tr th {\n",
       "        vertical-align: top;\n",
       "    }\n",
       "\n",
       "    .dataframe thead th {\n",
       "        text-align: right;\n",
       "    }\n",
       "</style>\n",
       "<table border=\"1\" class=\"dataframe\">\n",
       "  <thead>\n",
       "    <tr style=\"text-align: right;\">\n",
       "      <th></th>\n",
       "      <th>severity category</th>\n",
       "      <th>Total Count</th>\n",
       "    </tr>\n",
       "  </thead>\n",
       "  <tbody>\n",
       "    <tr>\n",
       "      <th>0</th>\n",
       "      <td>Fatal</td>\n",
       "      <td>746</td>\n",
       "    </tr>\n",
       "    <tr>\n",
       "      <th>1</th>\n",
       "      <td>Hospital</td>\n",
       "      <td>6928</td>\n",
       "    </tr>\n",
       "    <tr>\n",
       "      <th>2</th>\n",
       "      <td>Medical</td>\n",
       "      <td>17779</td>\n",
       "    </tr>\n",
       "  </tbody>\n",
       "</table>\n",
       "</div>"
      ]
     },
     "metadata": {},
     "execution_count": 10
    }
   ],
   "metadata": {}
  },
  {
   "cell_type": "code",
   "execution_count": 26,
   "source": [
    "bar_plot_data = severity_summary.plot.bar(figsize = (7,5), fontsize = 10, color = 'red', rot='horizontal',title='Count of accident per severity')\r\n",
    "\r\n",
    "bar_plot_data.set_xlabel(\"Severity\")\r\n",
    "bar_plot_data.set_ylabel(\"Count of Accidents\")"
   ],
   "outputs": [
    {
     "output_type": "execute_result",
     "data": {
      "text/plain": [
       "Text(0, 0.5, 'Count of Accidents')"
      ]
     },
     "metadata": {},
     "execution_count": 26
    },
    {
     "output_type": "display_data",
     "data": {
      "text/plain": [
       "<Figure size 504x360 with 1 Axes>"
      ],
      "image/png": "[encoded data removed]"
     },
     "metadata": {
      "needs_background": "light"
     }
    }
   ],
   "metadata": {}
  },
  {
   "cell_type": "code",
   "execution_count": 29,
   "source": [
    "severity_type_groupby = traffic_df.groupby([\"SEVERITY\"])[\"ACCIDENT_TYPE\"].value_counts()\r\n",
    "severity_type_groupby\r\n",
    "\r\n",
    "severity_type_groupby[\"Fatal\"].plot(kind=\"bar\", title=\"Number of Fatal Accidents vs. Road Type\",rot='horizontal')\r\n",
    "plt.ylabel(\"Number of Fatal Accidents\")\r\n",
    "plt.xlabel(\"Road Type\")\r\n",
    "\r\n",
    "plt.show()"
   ],
   "outputs": [
    {
     "output_type": "display_data",
     "data": {
      "text/plain": [
       "<Figure size 432x288 with 1 Axes>"
      ],
      "image/png": "[encoded data removed]"
     },
     "metadata": {
      "needs_background": "light"
     }
    }
   ],
   "metadata": {}
  },
  {
   "cell_type": "code",
   "execution_count": 10,
   "source": [
    "bar_plot_data = severity_type_groupby.plot.bar(rot='vertical',title='Count of accident per severity')"
   ],
   "outputs": [
    {
     "output_type": "display_data",
     "data": {
      "text/plain": [
       "<Figure size 432x288 with 1 Axes>"
      ],
      "image/png": "[encoded data removed]"
     },
     "metadata": {
      "needs_background": "light"
     }
    }
   ],
   "metadata": {}
  },
  {
   "cell_type": "code",
   "execution_count": 11,
   "source": [
    "midblock = crash_data.loc[crash_data[\"ACCIDENT_TYPE\"] == \"Midblock\"]\r\n",
    "midblock_count = len(midblock[\"ACC_ID\"].unique())\r\n",
    "midblock_count\r\n",
    "\r\n",
    "intersection = crash_data.loc[crash_data[\"ACCIDENT_TYPE\"] == \"Intersection\"]\r\n",
    "intersection_count = len(intersection[\"ACC_ID\"].unique())\r\n",
    "intersection_count \r\n",
    "\r\n",
    "midblock_percentage = \"{:.2f}%\".format(midblock_count / crash_count * 100)\r\n",
    "midblock_percentage\r\n",
    "\r\n",
    "intersection_percentage = \"{:.2f}%\".format(intersection_count / crash_count * 100)\r\n",
    "intersection_percentage\r\n",
    "\r\n",
    "accident_summary = pd.DataFrame({\r\n",
    "    \"accident type category\":[\"Midblock\", \"Intersection\"],\r\n",
    "    \"Total Count\":[midblock_count, intersection_count],\r\n",
    "    \"Percentage of Accident Type\":[midblock_percentage, intersection_percentage],})\r\n",
    "\r\n",
    "accident_summary"
   ],
   "outputs": [
    {
     "output_type": "execute_result",
     "data": {
      "text/plain": [
       "  accident type category  Total Count Percentage of Accident Type\n",
       "0               Midblock        64527                      47.21%\n",
       "1           Intersection        72149                      52.79%"
      ],
      "text/html": [
       "<div>\n",
       "<style scoped>\n",
       "    .dataframe tbody tr th:only-of-type {\n",
       "        vertical-align: middle;\n",
       "    }\n",
       "\n",
       "    .dataframe tbody tr th {\n",
       "        vertical-align: top;\n",
       "    }\n",
       "\n",
       "    .dataframe thead th {\n",
       "        text-align: right;\n",
       "    }\n",
       "</style>\n",
       "<table border=\"1\" class=\"dataframe\">\n",
       "  <thead>\n",
       "    <tr style=\"text-align: right;\">\n",
       "      <th></th>\n",
       "      <th>accident type category</th>\n",
       "      <th>Total Count</th>\n",
       "      <th>Percentage of Accident Type</th>\n",
       "    </tr>\n",
       "  </thead>\n",
       "  <tbody>\n",
       "    <tr>\n",
       "      <th>0</th>\n",
       "      <td>Midblock</td>\n",
       "      <td>64527</td>\n",
       "      <td>47.21%</td>\n",
       "    </tr>\n",
       "    <tr>\n",
       "      <th>1</th>\n",
       "      <td>Intersection</td>\n",
       "      <td>72149</td>\n",
       "      <td>52.79%</td>\n",
       "    </tr>\n",
       "  </tbody>\n",
       "</table>\n",
       "</div>"
      ]
     },
     "metadata": {},
     "execution_count": 11
    }
   ],
   "metadata": {}
  },
  {
   "cell_type": "code",
   "execution_count": 12,
   "source": [
    "critical_value = st.chi2.ppf(q=0.95, df = 1)\r\n",
    "critical_value"
   ],
   "outputs": [
    {
     "output_type": "execute_result",
     "data": {
      "text/plain": [
       "3.841458820694124"
      ]
     },
     "metadata": {},
     "execution_count": 12
    }
   ],
   "metadata": {}
  },
  {
   "cell_type": "code",
   "execution_count": 13,
   "source": [
    "accident_data = crash_data.groupby('ACCIDENT_TYPE').count()['ACC_ID']\r\n",
    "accident_df = pd.DataFrame(accident_data)\r\n",
    "\r\n",
    "accident_stats = pd.DataFrame({\r\n",
    "    \"accident type category\":[\"Midblock\", \"Intersection\"],\r\n",
    "    \"observed\":[midblock_count, intersection_count],\r\n",
    "    \"expected\":[68338, 68338],})\r\n",
    "accident_stats\r\n"
   ],
   "outputs": [
    {
     "output_type": "execute_result",
     "data": {
      "text/plain": [
       "  accident type category  observed  expected\n",
       "0               Midblock     64527     68338\n",
       "1           Intersection     72149     68338"
      ],
      "text/html": [
       "<div>\n",
       "<style scoped>\n",
       "    .dataframe tbody tr th:only-of-type {\n",
       "        vertical-align: middle;\n",
       "    }\n",
       "\n",
       "    .dataframe tbody tr th {\n",
       "        vertical-align: top;\n",
       "    }\n",
       "\n",
       "    .dataframe thead th {\n",
       "        text-align: right;\n",
       "    }\n",
       "</style>\n",
       "<table border=\"1\" class=\"dataframe\">\n",
       "  <thead>\n",
       "    <tr style=\"text-align: right;\">\n",
       "      <th></th>\n",
       "      <th>accident type category</th>\n",
       "      <th>observed</th>\n",
       "      <th>expected</th>\n",
       "    </tr>\n",
       "  </thead>\n",
       "  <tbody>\n",
       "    <tr>\n",
       "      <th>0</th>\n",
       "      <td>Midblock</td>\n",
       "      <td>64527</td>\n",
       "      <td>68338</td>\n",
       "    </tr>\n",
       "    <tr>\n",
       "      <th>1</th>\n",
       "      <td>Intersection</td>\n",
       "      <td>72149</td>\n",
       "      <td>68338</td>\n",
       "    </tr>\n",
       "  </tbody>\n",
       "</table>\n",
       "</div>"
      ]
     },
     "metadata": {},
     "execution_count": 13
    }
   ],
   "metadata": {}
  },
  {
   "cell_type": "code",
   "execution_count": 14,
   "source": [
    "st.chisquare(accident_stats['observed'], accident_stats['expected'])\r\n",
    "\r\n",
    "#reject null hypothesis - we conclude that the differences seen in number of accidents per type of accident are statistically significant.accident_stats"
   ],
   "outputs": [
    {
     "output_type": "execute_result",
     "data": {
      "text/plain": [
       "Power_divergenceResult(statistic=425.0554888934414, pvalue=1.9367554530148811e-94)"
      ]
     },
     "metadata": {},
     "execution_count": 14
    }
   ],
   "metadata": {}
  },
  {
   "cell_type": "code",
   "execution_count": 15,
   "source": [
    "bar_plot_data = accident_data.plot.bar(rot='vertical',title='Count of accident per type of road')"
   ],
   "outputs": [
    {
     "output_type": "display_data",
     "data": {
      "text/plain": [
       "<Figure size 432x288 with 1 Axes>"
      ],
      "image/png": "[encoded data removed]"
     },
     "metadata": {
      "needs_background": "light"
     }
    }
   ],
   "metadata": {}
  },
  {
   "cell_type": "code",
   "execution_count": 16,
   "source": [
    "time_bins = [0, 359, 659, 959, 1259, 1559, 1859, 2159, 2359]\r\n",
    "time_names = [\"0-3\", \"4-6\", \"7-9\", \"10-12\", \"13-15\", \"16-18\", \"19-21\", \"22-24\"]\r\n",
    "\r\n",
    "group_time_df = crash_data\r\n",
    "group_time_df[\"Time Interval\"] = pd.cut(group_time_df[\"CRASH_TIME\"],time_bins, labels=time_names)\r\n",
    "group_time_df\r\n",
    "\r\n",
    "group_time_df[\"Time Interval\"].value_counts()"
   ],
   "outputs": [
    {
     "output_type": "execute_result",
     "data": {
      "text/plain": [
       "16-18    33435\n",
       "13-15    29911\n",
       "7-9      24744\n",
       "10-12    23769\n",
       "19-21    10713\n",
       "4-6       6425\n",
       "22-24     3950\n",
       "0-3       3144\n",
       "Name: Time Interval, dtype: int64"
      ]
     },
     "metadata": {},
     "execution_count": 16
    }
   ],
   "metadata": {}
  },
  {
   "cell_type": "code",
   "execution_count": 32,
   "source": [
    "severity_time_groupby = group_time_df.groupby([\"SEVERITY\"])[\"Time Interval\"].value_counts()\r\n",
    "severity_time_groupby\r\n",
    "\r\n"
   ],
   "outputs": [
    {
     "output_type": "execute_result",
     "data": {
      "text/plain": [
       "SEVERITY   Time Interval\n",
       "Fatal      13-15              142\n",
       "           16-18              121\n",
       "           10-12              117\n",
       "           19-21              100\n",
       "           0-3                 75\n",
       "           4-6                 74\n",
       "           7-9                 64\n",
       "           22-24               51\n",
       "Hospital   16-18             1489\n",
       "           13-15             1433\n",
       "           10-12             1136\n",
       "           7-9                944\n",
       "           19-21              781\n",
       "           4-6                430\n",
       "           22-24              343\n",
       "           0-3                318\n",
       "Medical    16-18             4459\n",
       "           13-15             3868\n",
       "           7-9               3864\n",
       "           10-12             2980\n",
       "           19-21             1125\n",
       "           4-6                812\n",
       "           22-24              345\n",
       "           0-3                243\n",
       "PDO Major  16-18            18152\n",
       "           13-15            15889\n",
       "           7-9              12668\n",
       "           10-12            12657\n",
       "           19-21             5815\n",
       "           4-6               3582\n",
       "           22-24             2237\n",
       "           0-3               1742\n",
       "PDO Minor  16-18             9214\n",
       "           13-15             8579\n",
       "           7-9               7204\n",
       "           10-12             6879\n",
       "           19-21             2892\n",
       "           4-6               1527\n",
       "           22-24              974\n",
       "           0-3                766\n",
       "Name: Time Interval, dtype: int64"
      ]
     },
     "metadata": {},
     "execution_count": 32
    }
   ],
   "metadata": {}
  },
  {
   "cell_type": "code",
   "execution_count": 41,
   "source": [
    "severity_time_groupby[\"Fatal\"]"
   ],
   "outputs": [
    {
     "output_type": "execute_result",
     "data": {
      "text/plain": [
       "Time Interval\n",
       "13-15    142\n",
       "16-18    121\n",
       "10-12    117\n",
       "19-21    100\n",
       "0-3       75\n",
       "4-6       74\n",
       "7-9       64\n",
       "22-24     51\n",
       "Name: Time Interval, dtype: int64"
      ]
     },
     "metadata": {},
     "execution_count": 41
    }
   ],
   "metadata": {}
  },
  {
   "cell_type": "code",
   "execution_count": 44,
   "source": [
    "severity_time_groupby[\"Fatal\"].plot(kind=\"bar\", title=\"Number of Fatal Accidents vs. Time Slots\",rot=0)\r\n",
    "plt.ylabel(\"Number of Fatal Accidents\")\r\n",
    "plt.xlabel(\"Time Slots\")\r\n",
    "plt.show()"
   ],
   "outputs": [
    {
     "output_type": "display_data",
     "data": {
      "text/plain": [
       "<Figure size 432x288 with 1 Axes>"
      ],
      "image/png": "[encoded data removed]"
     },
     "metadata": {
      "needs_background": "light"
     }
    }
   ],
   "metadata": {}
  }
 ],
 "metadata": {
  "anaconda-cloud": {},
  "kernelspec": {
   "name": "python3",
   "display_name": "Python 3.6.10 64-bit ('PythonData': conda)"
  },
  "language_info": {
   "codemirror_mode": {
    "name": "ipython",
    "version": 3
   },
   "file_extension": ".py",
   "mimetype": "text/x-python",
   "name": "python",
   "nbconvert_exporter": "python",
   "pygments_lexer": "ipython3",
   "version": "3.6.10"
  },
  "interpreter": {
   "hash": "c5cbe9acbcb3206eacc84b3354bbe9b13645e1cd0312af79e74c1ac4828e2df8"
  }
 },
 "nbformat": 4,
 "nbformat_minor": 2
}