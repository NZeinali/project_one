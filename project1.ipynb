{
 "cells": [
  {
   "cell_type": "code",
   "execution_count": 1,
   "source": [
    "# Dependencies and Setup\r\n",
    "import pandas as pd\r\n",
    "import seaborn as sns\r\n",
    "import gmaps\r\n",
    "import matplotlib.pyplot as plt\r\n",
    "\r\n",
    "# Google developer API key\r\n",
    "from config import g_key"
   ],
   "outputs": [],
   "metadata": {}
  },
  {
   "cell_type": "code",
   "execution_count": 2,
   "source": [
    "# File to Load \r\n",
    "traffic_file = \"project_data.csv\"\r\n",
    "\r\n",
    "# Read Traffic File and Store into Pandas DataFrame\r\n",
    "traffic_df = pd.read_csv(traffic_file)\r\n",
    "\r\n",
    "traffic_df.head(2)"
   ],
   "outputs": [
    {
     "output_type": "execute_result",
     "data": {
      "text/plain": [
       "    ACC_ID  ROAD_NO     ROAD_NAME   LONGITUDE   LATITUDE CRASH_DATE  \\\n",
       "0  9227453    10355      Povah Rd  122.229302 -17.929427     1/1/16   \n",
       "1  9227808  1020997  Abernethy Rd  115.987176 -31.963001     1/1/16   \n",
       "\n",
       "   CRASH_TIME   SEVERITY EVENT_NATURE EVENT_TYPE  TOTAL_BIKE_INVOLVED  \\\n",
       "0       200.0  PDO Minor   Hit Object        NaN                    0   \n",
       "1         0.0  PDO Major   Hit Object        NaN                    0   \n",
       "\n",
       "   TOTAL_TRUCK_INVOLVED  TOTAL_HEAVY_TRUCK_INVOLVED  \\\n",
       "0                     0                           0   \n",
       "1                     0                           0   \n",
       "\n",
       "   TOTAL_MOTOR_CYCLE_INVOLVED  TOTAL_OTHER_VEHICLES_INVOLVED  \\\n",
       "0                           0                              0   \n",
       "1                           0                              0   \n",
       "\n",
       "   TOTAL_PEDESTRIANS_INVOLVED  \n",
       "0                           0  \n",
       "1                           0  "
      ],
      "text/html": [
       "<div>\n",
       "<style scoped>\n",
       "    .dataframe tbody tr th:only-of-type {\n",
       "        vertical-align: middle;\n",
       "    }\n",
       "\n",
       "    .dataframe tbody tr th {\n",
       "        vertical-align: top;\n",
       "    }\n",
       "\n",
       "    .dataframe thead th {\n",
       "        text-align: right;\n",
       "    }\n",
       "</style>\n",
       "<table border=\"1\" class=\"dataframe\">\n",
       "  <thead>\n",
       "    <tr style=\"text-align: right;\">\n",
       "      <th></th>\n",
       "      <th>ACC_ID</th>\n",
       "      <th>ROAD_NO</th>\n",
       "      <th>ROAD_NAME</th>\n",
       "      <th>LONGITUDE</th>\n",
       "      <th>LATITUDE</th>\n",
       "      <th>CRASH_DATE</th>\n",
       "      <th>CRASH_TIME</th>\n",
       "      <th>SEVERITY</th>\n",
       "      <th>EVENT_NATURE</th>\n",
       "      <th>EVENT_TYPE</th>\n",
       "      <th>TOTAL_BIKE_INVOLVED</th>\n",
       "      <th>TOTAL_TRUCK_INVOLVED</th>\n",
       "      <th>TOTAL_HEAVY_TRUCK_INVOLVED</th>\n",
       "      <th>TOTAL_MOTOR_CYCLE_INVOLVED</th>\n",
       "      <th>TOTAL_OTHER_VEHICLES_INVOLVED</th>\n",
       "      <th>TOTAL_PEDESTRIANS_INVOLVED</th>\n",
       "    </tr>\n",
       "  </thead>\n",
       "  <tbody>\n",
       "    <tr>\n",
       "      <th>0</th>\n",
       "      <td>9227453</td>\n",
       "      <td>10355</td>\n",
       "      <td>Povah Rd</td>\n",
       "      <td>122.229302</td>\n",
       "      <td>-17.929427</td>\n",
       "      <td>1/1/16</td>\n",
       "      <td>200.0</td>\n",
       "      <td>PDO Minor</td>\n",
       "      <td>Hit Object</td>\n",
       "      <td>NaN</td>\n",
       "      <td>0</td>\n",
       "      <td>0</td>\n",
       "      <td>0</td>\n",
       "      <td>0</td>\n",
       "      <td>0</td>\n",
       "      <td>0</td>\n",
       "    </tr>\n",
       "    <tr>\n",
       "      <th>1</th>\n",
       "      <td>9227808</td>\n",
       "      <td>1020997</td>\n",
       "      <td>Abernethy Rd</td>\n",
       "      <td>115.987176</td>\n",
       "      <td>-31.963001</td>\n",
       "      <td>1/1/16</td>\n",
       "      <td>0.0</td>\n",
       "      <td>PDO Major</td>\n",
       "      <td>Hit Object</td>\n",
       "      <td>NaN</td>\n",
       "      <td>0</td>\n",
       "      <td>0</td>\n",
       "      <td>0</td>\n",
       "      <td>0</td>\n",
       "      <td>0</td>\n",
       "      <td>0</td>\n",
       "    </tr>\n",
       "  </tbody>\n",
       "</table>\n",
       "</div>"
      ]
     },
     "metadata": {},
     "execution_count": 2
    }
   ],
   "metadata": {}
  },
  {
   "cell_type": "code",
   "execution_count": 3,
   "source": [
    "# File to Load \r\n",
    "speedlimit_file = \"Legal_Speed_Limits.csv\"\r\n",
    "\r\n",
    "# Read Traffic File and Store into Pandas DataFrame\r\n",
    "speedlimit_df = pd.read_csv(speedlimit_file)\r\n",
    "\r\n",
    "# Rename \"ROAD\" column to \"ROAD_NO\" to have similar column names in both DataFrames\r\n",
    "speedlimit_df=speedlimit_df.rename(columns={\"ROAD\":\"ROAD_NO\"})\r\n",
    "\r\n",
    "speedlimit_df.head(2)"
   ],
   "outputs": [
    {
     "output_type": "execute_result",
     "data": {
      "text/plain": [
       "   OBJECTID  ROAD_NO    ROAD_NAME COMMON_USAGE_NAME  START_SLK  END_SLK  \\\n",
       "0  47167919  2110042    Hacket Rd         Hacket Rd        0.0     1.15   \n",
       "1  47167920  1071273  Gypsum Cove       Gypsum Cove        0.0     0.12   \n",
       "\n",
       "      CWY  START_TRUE_DIST  END_TRUE_DIST NETWORK_TYPE  RA_NO       RA_NAME  \\\n",
       "0  Single              0.0           1.15   Local Road      2    South West   \n",
       "1  Single              0.0           0.12   Local Road      7  Metropolitan   \n",
       "\n",
       "   LG_NO         LG_NAME                                        SPEED_LIMIT  \\\n",
       "0    211          Harvey  50km/h applies in built up areas or 110km/h ou...   \n",
       "1    107  Rockingham (C)  50km/h applies in built up areas or 110km/h ou...   \n",
       "\n",
       "   ROUTE_NE_ID  GEOLOCSTLength  \n",
       "0       218243        0.010896  \n",
       "1       218228        0.001073  "
      ],
      "text/html": [
       "<div>\n",
       "<style scoped>\n",
       "    .dataframe tbody tr th:only-of-type {\n",
       "        vertical-align: middle;\n",
       "    }\n",
       "\n",
       "    .dataframe tbody tr th {\n",
       "        vertical-align: top;\n",
       "    }\n",
       "\n",
       "    .dataframe thead th {\n",
       "        text-align: right;\n",
       "    }\n",
       "</style>\n",
       "<table border=\"1\" class=\"dataframe\">\n",
       "  <thead>\n",
       "    <tr style=\"text-align: right;\">\n",
       "      <th></th>\n",
       "      <th>OBJECTID</th>\n",
       "      <th>ROAD_NO</th>\n",
       "      <th>ROAD_NAME</th>\n",
       "      <th>COMMON_USAGE_NAME</th>\n",
       "      <th>START_SLK</th>\n",
       "      <th>END_SLK</th>\n",
       "      <th>CWY</th>\n",
       "      <th>START_TRUE_DIST</th>\n",
       "      <th>END_TRUE_DIST</th>\n",
       "      <th>NETWORK_TYPE</th>\n",
       "      <th>RA_NO</th>\n",
       "      <th>RA_NAME</th>\n",
       "      <th>LG_NO</th>\n",
       "      <th>LG_NAME</th>\n",
       "      <th>SPEED_LIMIT</th>\n",
       "      <th>ROUTE_NE_ID</th>\n",
       "      <th>GEOLOCSTLength</th>\n",
       "    </tr>\n",
       "  </thead>\n",
       "  <tbody>\n",
       "    <tr>\n",
       "      <th>0</th>\n",
       "      <td>47167919</td>\n",
       "      <td>2110042</td>\n",
       "      <td>Hacket Rd</td>\n",
       "      <td>Hacket Rd</td>\n",
       "      <td>0.0</td>\n",
       "      <td>1.15</td>\n",
       "      <td>Single</td>\n",
       "      <td>0.0</td>\n",
       "      <td>1.15</td>\n",
       "      <td>Local Road</td>\n",
       "      <td>2</td>\n",
       "      <td>South West</td>\n",
       "      <td>211</td>\n",
       "      <td>Harvey</td>\n",
       "      <td>50km/h applies in built up areas or 110km/h ou...</td>\n",
       "      <td>218243</td>\n",
       "      <td>0.010896</td>\n",
       "    </tr>\n",
       "    <tr>\n",
       "      <th>1</th>\n",
       "      <td>47167920</td>\n",
       "      <td>1071273</td>\n",
       "      <td>Gypsum Cove</td>\n",
       "      <td>Gypsum Cove</td>\n",
       "      <td>0.0</td>\n",
       "      <td>0.12</td>\n",
       "      <td>Single</td>\n",
       "      <td>0.0</td>\n",
       "      <td>0.12</td>\n",
       "      <td>Local Road</td>\n",
       "      <td>7</td>\n",
       "      <td>Metropolitan</td>\n",
       "      <td>107</td>\n",
       "      <td>Rockingham (C)</td>\n",
       "      <td>50km/h applies in built up areas or 110km/h ou...</td>\n",
       "      <td>218228</td>\n",
       "      <td>0.001073</td>\n",
       "    </tr>\n",
       "  </tbody>\n",
       "</table>\n",
       "</div>"
      ]
     },
     "metadata": {},
     "execution_count": 3
    }
   ],
   "metadata": {}
  },
  {
   "cell_type": "code",
   "execution_count": 4,
   "source": [
    "# # Merge Traffic and SpeedLimit DataFrames \r\n",
    "# left=pd.DataFrame({\"A\":traffic_df[\"ROAD_NO\"]})\r\n",
    "# right=pd.DataFrame({\"A\":speedlimit_df[\"ROAD_NO\"],\"B\":speedlimit_df[\"SPEED_LIMIT\"]}).drop_duplicates()\r\n",
    "# right=right.drop_duplicates([\"A\"])\r\n",
    "# merged_df = pd.merge(left, right, how=\"left\", on=\"A\", validate=\"many_to_one\")\r\n",
    "# merged_df"
   ],
   "outputs": [],
   "metadata": {}
  },
  {
   "cell_type": "code",
   "execution_count": 5,
   "source": [
    "# Merge Traffic and SpeedLimit DataFrames \r\n",
    "speedlimit_df=speedlimit_df.drop_duplicates([\"ROAD_NO\"])\r\n",
    "merged_df = pd.merge(traffic_df, speedlimit_df, how=\"left\", on=\"ROAD_NO\", validate=\"many_to_one\")\r\n",
    "merged_df.head(2)"
   ],
   "outputs": [
    {
     "output_type": "execute_result",
     "data": {
      "text/plain": [
       "    ACC_ID  ROAD_NO   ROAD_NAME_x   LONGITUDE   LATITUDE CRASH_DATE  \\\n",
       "0  9227453    10355      Povah Rd  122.229302 -17.929427     1/1/16   \n",
       "1  9227808  1020997  Abernethy Rd  115.987176 -31.963001     1/1/16   \n",
       "\n",
       "   CRASH_TIME   SEVERITY EVENT_NATURE EVENT_TYPE  ...  START_TRUE_DIST  \\\n",
       "0       200.0  PDO Minor   Hit Object        NaN  ...             0.00   \n",
       "1         0.0  PDO Major   Hit Object        NaN  ...             5.72   \n",
       "\n",
       "   END_TRUE_DIST  NETWORK_TYPE  RA_NO       RA_NAME  LG_NO    LG_NAME  \\\n",
       "0           0.56    Local Road    6.0     Kimberley    1.0     Broome   \n",
       "1           6.23    Local Road    7.0  Metropolitan  102.0  Kalamunda   \n",
       "\n",
       "                                         SPEED_LIMIT ROUTE_NE_ID  \\\n",
       "0  50km/h applies in built up areas or 110km/h ou...   8196347.0   \n",
       "1                                             70km/h  16101734.0   \n",
       "\n",
       "   GEOLOCSTLength  \n",
       "0        0.005025  \n",
       "1        0.004885  \n",
       "\n",
       "[2 rows x 32 columns]"
      ],
      "text/html": [
       "<div>\n",
       "<style scoped>\n",
       "    .dataframe tbody tr th:only-of-type {\n",
       "        vertical-align: middle;\n",
       "    }\n",
       "\n",
       "    .dataframe tbody tr th {\n",
       "        vertical-align: top;\n",
       "    }\n",
       "\n",
       "    .dataframe thead th {\n",
       "        text-align: right;\n",
       "    }\n",
       "</style>\n",
       "<table border=\"1\" class=\"dataframe\">\n",
       "  <thead>\n",
       "    <tr style=\"text-align: right;\">\n",
       "      <th></th>\n",
       "      <th>ACC_ID</th>\n",
       "      <th>ROAD_NO</th>\n",
       "      <th>ROAD_NAME_x</th>\n",
       "      <th>LONGITUDE</th>\n",
       "      <th>LATITUDE</th>\n",
       "      <th>CRASH_DATE</th>\n",
       "      <th>CRASH_TIME</th>\n",
       "      <th>SEVERITY</th>\n",
       "      <th>EVENT_NATURE</th>\n",
       "      <th>EVENT_TYPE</th>\n",
       "      <th>...</th>\n",
       "      <th>START_TRUE_DIST</th>\n",
       "      <th>END_TRUE_DIST</th>\n",
       "      <th>NETWORK_TYPE</th>\n",
       "      <th>RA_NO</th>\n",
       "      <th>RA_NAME</th>\n",
       "      <th>LG_NO</th>\n",
       "      <th>LG_NAME</th>\n",
       "      <th>SPEED_LIMIT</th>\n",
       "      <th>ROUTE_NE_ID</th>\n",
       "      <th>GEOLOCSTLength</th>\n",
       "    </tr>\n",
       "  </thead>\n",
       "  <tbody>\n",
       "    <tr>\n",
       "      <th>0</th>\n",
       "      <td>9227453</td>\n",
       "      <td>10355</td>\n",
       "      <td>Povah Rd</td>\n",
       "      <td>122.229302</td>\n",
       "      <td>-17.929427</td>\n",
       "      <td>1/1/16</td>\n",
       "      <td>200.0</td>\n",
       "      <td>PDO Minor</td>\n",
       "      <td>Hit Object</td>\n",
       "      <td>NaN</td>\n",
       "      <td>...</td>\n",
       "      <td>0.00</td>\n",
       "      <td>0.56</td>\n",
       "      <td>Local Road</td>\n",
       "      <td>6.0</td>\n",
       "      <td>Kimberley</td>\n",
       "      <td>1.0</td>\n",
       "      <td>Broome</td>\n",
       "      <td>50km/h applies in built up areas or 110km/h ou...</td>\n",
       "      <td>8196347.0</td>\n",
       "      <td>0.005025</td>\n",
       "    </tr>\n",
       "    <tr>\n",
       "      <th>1</th>\n",
       "      <td>9227808</td>\n",
       "      <td>1020997</td>\n",
       "      <td>Abernethy Rd</td>\n",
       "      <td>115.987176</td>\n",
       "      <td>-31.963001</td>\n",
       "      <td>1/1/16</td>\n",
       "      <td>0.0</td>\n",
       "      <td>PDO Major</td>\n",
       "      <td>Hit Object</td>\n",
       "      <td>NaN</td>\n",
       "      <td>...</td>\n",
       "      <td>5.72</td>\n",
       "      <td>6.23</td>\n",
       "      <td>Local Road</td>\n",
       "      <td>7.0</td>\n",
       "      <td>Metropolitan</td>\n",
       "      <td>102.0</td>\n",
       "      <td>Kalamunda</td>\n",
       "      <td>70km/h</td>\n",
       "      <td>16101734.0</td>\n",
       "      <td>0.004885</td>\n",
       "    </tr>\n",
       "  </tbody>\n",
       "</table>\n",
       "<p>2 rows × 32 columns</p>\n",
       "</div>"
      ]
     },
     "metadata": {},
     "execution_count": 5
    }
   ],
   "metadata": {}
  },
  {
   "cell_type": "code",
   "execution_count": 6,
   "source": [
    "# Cleaning merged dataframe\r\n",
    "merged_df=merged_df[[\"ROAD_NO\",\"SPEED_LIMIT\",\"LONGITUDE\",\"LATITUDE\",\"CRASH_DATE\",\"CRASH_TIME\",\"SEVERITY\", \\\r\n",
    "    \"TOTAL_BIKE_INVOLVED\", \"TOTAL_TRUCK_INVOLVED\",\"TOTAL_HEAVY_TRUCK_INVOLVED\",\"TOTAL_MOTOR_CYCLE_INVOLVED\", \\\r\n",
    "        \"TOTAL_OTHER_VEHICLES_INVOLVED\", \"TOTAL_PEDESTRIANS_INVOLVED\"]]\r\n",
    "\r\n",
    "clean_merged_df=merged_df.loc[merged_df[\"SPEED_LIMIT\"]!= \\\r\n",
    "    \"50km/h applies in built up areas or 110km/h outside built up areas\"]\r\n",
    "\r\n",
    "# Convert SPEED_LIMIT column from object to float\r\n",
    "clean_merged_df[\"SPEED_LIMIT\"]=clean_merged_df[\"SPEED_LIMIT\"].str.replace(\"km/h\",\" \").astype(float) \r\n",
    "clean_merged_df.head(2)"
   ],
   "outputs": [
    {
     "output_type": "stream",
     "name": "stderr",
     "text": [
      "C:\\Users\\Nassim\\anaconda3\\envs\\pythondata\\lib\\site-packages\\ipykernel_launcher.py:10: SettingWithCopyWarning: \n",
      "A value is trying to be set on a copy of a slice from a DataFrame.\n",
      "Try using .loc[row_indexer,col_indexer] = value instead\n",
      "\n",
      "See the caveats in the documentation: https://pandas.pydata.org/pandas-docs/stable/user_guide/indexing.html#returning-a-view-versus-a-copy\n",
      "  # Remove the CWD from sys.path while we load stuff.\n"
     ]
    },
    {
     "output_type": "execute_result",
     "data": {
      "text/plain": [
       "   ROAD_NO  SPEED_LIMIT   LONGITUDE   LATITUDE CRASH_DATE  CRASH_TIME  \\\n",
       "1  1020997         70.0  115.987176 -31.963001     1/1/16         0.0   \n",
       "4  1070128         70.0  115.759332 -32.335668     1/1/16       135.0   \n",
       "\n",
       "    SEVERITY  TOTAL_BIKE_INVOLVED  TOTAL_TRUCK_INVOLVED  \\\n",
       "1  PDO Major                    0                     0   \n",
       "4  PDO Major                    0                     0   \n",
       "\n",
       "   TOTAL_HEAVY_TRUCK_INVOLVED  TOTAL_MOTOR_CYCLE_INVOLVED  \\\n",
       "1                           0                           0   \n",
       "4                           0                           0   \n",
       "\n",
       "   TOTAL_OTHER_VEHICLES_INVOLVED  TOTAL_PEDESTRIANS_INVOLVED  \n",
       "1                              0                           0  \n",
       "4                              1                           0  "
      ],
      "text/html": [
       "<div>\n",
       "<style scoped>\n",
       "    .dataframe tbody tr th:only-of-type {\n",
       "        vertical-align: middle;\n",
       "    }\n",
       "\n",
       "    .dataframe tbody tr th {\n",
       "        vertical-align: top;\n",
       "    }\n",
       "\n",
       "    .dataframe thead th {\n",
       "        text-align: right;\n",
       "    }\n",
       "</style>\n",
       "<table border=\"1\" class=\"dataframe\">\n",
       "  <thead>\n",
       "    <tr style=\"text-align: right;\">\n",
       "      <th></th>\n",
       "      <th>ROAD_NO</th>\n",
       "      <th>SPEED_LIMIT</th>\n",
       "      <th>LONGITUDE</th>\n",
       "      <th>LATITUDE</th>\n",
       "      <th>CRASH_DATE</th>\n",
       "      <th>CRASH_TIME</th>\n",
       "      <th>SEVERITY</th>\n",
       "      <th>TOTAL_BIKE_INVOLVED</th>\n",
       "      <th>TOTAL_TRUCK_INVOLVED</th>\n",
       "      <th>TOTAL_HEAVY_TRUCK_INVOLVED</th>\n",
       "      <th>TOTAL_MOTOR_CYCLE_INVOLVED</th>\n",
       "      <th>TOTAL_OTHER_VEHICLES_INVOLVED</th>\n",
       "      <th>TOTAL_PEDESTRIANS_INVOLVED</th>\n",
       "    </tr>\n",
       "  </thead>\n",
       "  <tbody>\n",
       "    <tr>\n",
       "      <th>1</th>\n",
       "      <td>1020997</td>\n",
       "      <td>70.0</td>\n",
       "      <td>115.987176</td>\n",
       "      <td>-31.963001</td>\n",
       "      <td>1/1/16</td>\n",
       "      <td>0.0</td>\n",
       "      <td>PDO Major</td>\n",
       "      <td>0</td>\n",
       "      <td>0</td>\n",
       "      <td>0</td>\n",
       "      <td>0</td>\n",
       "      <td>0</td>\n",
       "      <td>0</td>\n",
       "    </tr>\n",
       "    <tr>\n",
       "      <th>4</th>\n",
       "      <td>1070128</td>\n",
       "      <td>70.0</td>\n",
       "      <td>115.759332</td>\n",
       "      <td>-32.335668</td>\n",
       "      <td>1/1/16</td>\n",
       "      <td>135.0</td>\n",
       "      <td>PDO Major</td>\n",
       "      <td>0</td>\n",
       "      <td>0</td>\n",
       "      <td>0</td>\n",
       "      <td>0</td>\n",
       "      <td>1</td>\n",
       "      <td>0</td>\n",
       "    </tr>\n",
       "  </tbody>\n",
       "</table>\n",
       "</div>"
      ]
     },
     "metadata": {},
     "execution_count": 6
    }
   ],
   "metadata": {}
  },
  {
   "cell_type": "code",
   "execution_count": 7,
   "source": [
    "# Cleaning speedlimit dataframe\r\n",
    "clean_speedlimit=speedlimit_df.loc[speedlimit_df[\"SPEED_LIMIT\"]!= \\\r\n",
    "    \"50km/h applies in built up areas or 110km/h outside built up areas\"]\r\n",
    "\r\n",
    "# Convert SPEED_LIMIT column from object to float\r\n",
    "clean_speedlimit[\"SPEED_LIMIT\"]=clean_speedlimit[\"SPEED_LIMIT\"].str.replace(\"km/h\",\" \").astype(float)\r\n",
    "clean_speedlimit.head(2)"
   ],
   "outputs": [
    {
     "output_type": "stream",
     "name": "stderr",
     "text": [
      "C:\\Users\\Nassim\\anaconda3\\envs\\pythondata\\lib\\site-packages\\ipykernel_launcher.py:6: SettingWithCopyWarning: \n",
      "A value is trying to be set on a copy of a slice from a DataFrame.\n",
      "Try using .loc[row_indexer,col_indexer] = value instead\n",
      "\n",
      "See the caveats in the documentation: https://pandas.pydata.org/pandas-docs/stable/user_guide/indexing.html#returning-a-view-versus-a-copy\n",
      "  \n"
     ]
    },
    {
     "output_type": "execute_result",
     "data": {
      "text/plain": [
       "       OBJECTID  ROAD_NO    ROAD_NAME COMMON_USAGE_NAME  START_SLK  END_SLK  \\\n",
       "52855  47220774  1180262   Douglas St        Douglas St        0.0     0.12   \n",
       "52857  47220776  1290202  Lathlain Pl       Lathlain Pl        0.0     0.10   \n",
       "\n",
       "          CWY  START_TRUE_DIST  END_TRUE_DIST NETWORK_TYPE  RA_NO  \\\n",
       "52855  Single              0.0           0.12   Local Road      7   \n",
       "52857    Left              0.0           0.10   Local Road      7   \n",
       "\n",
       "            RA_NAME  LG_NO            LG_NAME  SPEED_LIMIT  ROUTE_NE_ID  \\\n",
       "52855  Metropolitan    118      Fremantle (C)         10.0       212440   \n",
       "52857  Metropolitan    129  Victoria Park (T)         20.0       224547   \n",
       "\n",
       "       GEOLOCSTLength  \n",
       "52855        0.001244  \n",
       "52857        0.000975  "
      ],
      "text/html": [
       "<div>\n",
       "<style scoped>\n",
       "    .dataframe tbody tr th:only-of-type {\n",
       "        vertical-align: middle;\n",
       "    }\n",
       "\n",
       "    .dataframe tbody tr th {\n",
       "        vertical-align: top;\n",
       "    }\n",
       "\n",
       "    .dataframe thead th {\n",
       "        text-align: right;\n",
       "    }\n",
       "</style>\n",
       "<table border=\"1\" class=\"dataframe\">\n",
       "  <thead>\n",
       "    <tr style=\"text-align: right;\">\n",
       "      <th></th>\n",
       "      <th>OBJECTID</th>\n",
       "      <th>ROAD_NO</th>\n",
       "      <th>ROAD_NAME</th>\n",
       "      <th>COMMON_USAGE_NAME</th>\n",
       "      <th>START_SLK</th>\n",
       "      <th>END_SLK</th>\n",
       "      <th>CWY</th>\n",
       "      <th>START_TRUE_DIST</th>\n",
       "      <th>END_TRUE_DIST</th>\n",
       "      <th>NETWORK_TYPE</th>\n",
       "      <th>RA_NO</th>\n",
       "      <th>RA_NAME</th>\n",
       "      <th>LG_NO</th>\n",
       "      <th>LG_NAME</th>\n",
       "      <th>SPEED_LIMIT</th>\n",
       "      <th>ROUTE_NE_ID</th>\n",
       "      <th>GEOLOCSTLength</th>\n",
       "    </tr>\n",
       "  </thead>\n",
       "  <tbody>\n",
       "    <tr>\n",
       "      <th>52855</th>\n",
       "      <td>47220774</td>\n",
       "      <td>1180262</td>\n",
       "      <td>Douglas St</td>\n",
       "      <td>Douglas St</td>\n",
       "      <td>0.0</td>\n",
       "      <td>0.12</td>\n",
       "      <td>Single</td>\n",
       "      <td>0.0</td>\n",
       "      <td>0.12</td>\n",
       "      <td>Local Road</td>\n",
       "      <td>7</td>\n",
       "      <td>Metropolitan</td>\n",
       "      <td>118</td>\n",
       "      <td>Fremantle (C)</td>\n",
       "      <td>10.0</td>\n",
       "      <td>212440</td>\n",
       "      <td>0.001244</td>\n",
       "    </tr>\n",
       "    <tr>\n",
       "      <th>52857</th>\n",
       "      <td>47220776</td>\n",
       "      <td>1290202</td>\n",
       "      <td>Lathlain Pl</td>\n",
       "      <td>Lathlain Pl</td>\n",
       "      <td>0.0</td>\n",
       "      <td>0.10</td>\n",
       "      <td>Left</td>\n",
       "      <td>0.0</td>\n",
       "      <td>0.10</td>\n",
       "      <td>Local Road</td>\n",
       "      <td>7</td>\n",
       "      <td>Metropolitan</td>\n",
       "      <td>129</td>\n",
       "      <td>Victoria Park (T)</td>\n",
       "      <td>20.0</td>\n",
       "      <td>224547</td>\n",
       "      <td>0.000975</td>\n",
       "    </tr>\n",
       "  </tbody>\n",
       "</table>\n",
       "</div>"
      ]
     },
     "metadata": {},
     "execution_count": 7
    }
   ],
   "metadata": {}
  },
  {
   "cell_type": "code",
   "execution_count": 8,
   "source": [
    "# Count number of accidents per speed limit\r\n",
    "accident_count_per_speedlimit=clean_merged_df[\"SPEED_LIMIT\"].value_counts()\r\n",
    "\r\n",
    "# Remove speed limits below 50km/h\r\n",
    "accident_count_per_speedlimit=accident_count_per_speedlimit.loc[accident_count_per_speedlimit.index>40]\r\n",
    "\r\n",
    "print(\"Number of accidents:\")\r\n",
    "print(accident_count_per_speedlimit)\r\n",
    "\r\n",
    "# Count number of roads per speed limit\r\n",
    "road_count_per_speedlimit=(clean_speedlimit[\"SPEED_LIMIT\"].value_counts())\r\n",
    "\r\n",
    "# Remove speed limits below 50km/h\r\n",
    "road_count_per_speedlimit=road_count_per_speedlimit.loc[road_count_per_speedlimit.index>40]\r\n",
    "print(\"Number of roads:\")\r\n",
    "print(road_count_per_speedlimit)\r\n"
   ],
   "outputs": [
    {
     "output_type": "stream",
     "name": "stdout",
     "text": [
      "Number of accidents:\n",
      "60.0     49834\n",
      "70.0     19054\n",
      "50.0      8646\n",
      "80.0      7771\n",
      "110.0      175\n",
      "90.0       111\n",
      "100.0       79\n",
      "Name: SPEED_LIMIT, dtype: int64\n",
      "Number of roads:\n",
      "50.0     5122\n",
      "60.0      975\n",
      "70.0      731\n",
      "80.0      181\n",
      "110.0      86\n",
      "90.0       33\n",
      "100.0      15\n",
      "Name: SPEED_LIMIT, dtype: int64\n"
     ]
    }
   ],
   "metadata": {}
  },
  {
   "cell_type": "code",
   "execution_count": 9,
   "source": [
    "#Normalise accident data\r\n",
    "total_roads=clean_speedlimit[\"SPEED_LIMIT\"].sum()\r\n",
    "\r\n",
    "normalised_accidents_per_speedlimit=accident_count_per_speedlimit*road_count_per_speedlimit/total_roads\r\n",
    "normalised_accidents_per_speedlimit.plot(kind=\"bar\", title=\"Normalised Number of Accidents in WA vs. Speed Limit\",rot=0)\r\n",
    "plt.ylabel(\"Total Number of Accidents\")\r\n",
    "plt.xlabel(\"Road Speed Limits [km/h]\")\r\n",
    "plt.show()"
   ],
   "outputs": [
    {
     "output_type": "display_data",
     "data": {
      "text/plain": [
       "<Figure size 432x288 with 1 Axes>"
      ],
      "image/png": "[encoded data removed]"
     },
     "metadata": {
      "needs_background": "light"
     }
    }
   ],
   "metadata": {}
  },
  {
   "cell_type": "code",
   "execution_count": 10,
   "source": [
    "# Group Traffic DataFrame by \"SEVERITY\"\r\n",
    "grouped_accidents_per_severity=clean_merged_df.groupby([\"SEVERITY\"])[\"SPEED_LIMIT\"].value_counts()\r\n",
    "grouped_accidents_per_severity"
   ],
   "outputs": [
    {
     "output_type": "execute_result",
     "data": {
      "text/plain": [
       "SEVERITY   SPEED_LIMIT\n",
       "Fatal      60.0             192\n",
       "           50.0             134\n",
       "           70.0              44\n",
       "           80.0              30\n",
       "           40.0              21\n",
       "           110.0             10\n",
       "           90.0               8\n",
       "           100.0              2\n",
       "Hospital   60.0            2273\n",
       "           70.0             856\n",
       "           50.0             622\n",
       "           80.0             327\n",
       "           40.0             203\n",
       "           110.0             28\n",
       "           30.0              26\n",
       "           90.0              26\n",
       "           100.0             11\n",
       "Medical    60.0            7325\n",
       "           70.0            2846\n",
       "           80.0            1193\n",
       "           50.0             944\n",
       "           40.0             610\n",
       "           30.0             138\n",
       "           110.0             16\n",
       "           100.0             12\n",
       "           90.0               8\n",
       "PDO Major  60.0           26645\n",
       "           70.0           10407\n",
       "           50.0            4738\n",
       "           80.0            4304\n",
       "           40.0            2701\n",
       "           30.0             462\n",
       "           110.0            102\n",
       "           90.0              56\n",
       "           100.0             41\n",
       "PDO Minor  60.0           13399\n",
       "           70.0            4901\n",
       "           50.0            2208\n",
       "           80.0            1917\n",
       "           40.0            1882\n",
       "           30.0             264\n",
       "           110.0             19\n",
       "           90.0              13\n",
       "           100.0             13\n",
       "           20.0               1\n",
       "Name: SPEED_LIMIT, dtype: int64"
      ]
     },
     "metadata": {},
     "execution_count": 10
    }
   ],
   "metadata": {}
  },
  {
   "cell_type": "markdown",
   "source": [
    "## Fatal Accident Analysis"
   ],
   "metadata": {}
  },
  {
   "cell_type": "code",
   "execution_count": 11,
   "source": [
    "# Remove speed limits below 50km/h\r\n",
    "fatal_accidents=grouped_accidents_per_severity[\"Fatal\"].loc[grouped_accidents_per_severity[\"Fatal\"].index>40].sort_index()\r\n",
    "\r\n",
    "# Plot the Number of Fatal Accidents\r\n",
    "fatal_accidents.plot(kind=\"bar\", title=\"Number of Fatal Accidents vs. Speed Limit\",rot=0)\r\n",
    "plt.ylabel(\"Number of Fatal Accidents\")\r\n",
    "plt.xlabel(\"Road Speed Limits [km/h]\")\r\n",
    "plt.show()"
   ],
   "outputs": [
    {
     "output_type": "display_data",
     "data": {
      "text/plain": [
       "<Figure size 432x288 with 1 Axes>"
      ],
      "image/png": "[encoded data removed]"
     },
     "metadata": {
      "needs_background": "light"
     }
    }
   ],
   "metadata": {}
  },
  {
   "cell_type": "markdown",
   "source": [
    "## Hospital Accident Analysis"
   ],
   "metadata": {}
  },
  {
   "cell_type": "code",
   "execution_count": 12,
   "source": [
    "# Remove speed limits below 50km/h\r\n",
    "hospital_accidents=grouped_accidents_per_severity[\"Hospital\"].loc[grouped_accidents_per_severity[\"Hospital\"].index>40].sort_index()\r\n",
    "\r\n",
    "# Plot the Number of Fatal Accidents\r\n",
    "hospital_accidents.plot(kind=\"bar\", title=\"Number of Hospital Accidents vs. Speed Limit\",rot=0)\r\n",
    "plt.ylabel(\"Number of Hospital Accidents\")\r\n",
    "plt.xlabel(\"Road Speed Limits [km/h]\")\r\n",
    "plt.show()"
   ],
   "outputs": [
    {
     "output_type": "display_data",
     "data": {
      "text/plain": [
       "<Figure size 432x288 with 1 Axes>"
      ],
      "image/png": "[encoded data removed]"
     },
     "metadata": {
      "needs_background": "light"
     }
    }
   ],
   "metadata": {}
  },
  {
   "cell_type": "markdown",
   "source": [
    "## Medical Accident Analysis"
   ],
   "metadata": {}
  },
  {
   "cell_type": "code",
   "execution_count": 13,
   "source": [
    "# Remove speed limits below 50km/h\r\n",
    "medical_accidents=grouped_accidents_per_severity[\"Medical\"].loc[grouped_accidents_per_severity[\"Medical\"].index>40].sort_index()\r\n",
    "\r\n",
    "# Plot the Number of Medical Accidents\r\n",
    "medical_accidents.plot(kind=\"bar\", title=\"Number of Medical Accidents vs. Speed Limit\",rot=0)\r\n",
    "plt.ylabel(\"Number of Medical Accidents\")\r\n",
    "plt.xlabel(\"Road Speed Limits [km/h]\")\r\n",
    "plt.show()"
   ],
   "outputs": [
    {
     "output_type": "display_data",
     "data": {
      "text/plain": [
       "<Figure size 432x288 with 1 Axes>"
      ],
      "image/png": "[encoded data removed]"
     },
     "metadata": {
      "needs_background": "light"
     }
    }
   ],
   "metadata": {}
  },
  {
   "cell_type": "markdown",
   "source": [
    "## Fatal Driving Accidents on Google Maps"
   ],
   "metadata": {}
  },
  {
   "cell_type": "code",
   "execution_count": 14,
   "source": [
    "# Location of Fatal Accidents for Specific Year\r\n",
    "traffic_df[\"CRASH_YEAR\"]=traffic_df[\"CRASH_DATE\"].str.split(\"/\",expand=True)[2].astype(float)\r\n",
    "\r\n",
    "fatal_accident_df=traffic_df.loc[(traffic_df[\"SEVERITY\"]==\"Fatal\")&(traffic_df[\"CRASH_YEAR\"]==16)]\r\n",
    "locations=fatal_accident_df[[\"LATITUDE\", \"LONGITUDE\"]]"
   ],
   "outputs": [],
   "metadata": {}
  },
  {
   "cell_type": "code",
   "execution_count": 15,
   "source": [
    "# Configure gmaps\r\n",
    "gmaps.configure(api_key=g_key)\r\n",
    "\r\n",
    "figure_layout = {\r\n",
    "    'width': '400px',\r\n",
    "    'height': '300px',\r\n",
    "    'border': '1px solid black',\r\n",
    "    'padding': '1px',\r\n",
    "    'margin': '0 auto 0 auto'\r\n",
    "}\r\n",
    "\r\n",
    "fig = gmaps.figure()\r\n",
    "\r\n",
    "fig = gmaps.figure(layout=figure_layout)\r\n",
    "fig = gmaps.figure(center=(-33,117), zoom_level=7)\r\n",
    "\r\n",
    "\r\n",
    "# Assign the marker layer to a variable\r\n",
    "symbols = gmaps.symbol_layer(locations, fill_color=\"red\", fill_opacity=0.3,stroke_color=\"red\", stroke_opacity=0.3)\r\n",
    "\r\n",
    "\r\n",
    "# Add marker layer ontop of heat map\r\n",
    "# fig.add_layer(heat_layer)\r\n",
    "fig.add_layer(symbols)\r\n",
    "\r\n",
    "# Display figure\r\n",
    "fig"
   ],
   "outputs": [
    {
     "output_type": "display_data",
     "data": {
      "text/plain": [
       "Figure(layout=FigureLayout(height='420px'))"
      ],
      "application/vnd.jupyter.widget-view+json": {
       "version_major": 2,
       "version_minor": 0,
       "model_id": "7866c841c0a5408facdfbea3d61e84af"
      }
     },
     "metadata": {}
    }
   ],
   "metadata": {}
  },
  {
   "cell_type": "code",
   "execution_count": 16,
   "source": [
    "# Number of Fatal Accidents per Year\r\n",
    "traffic_df[\"CRASH_YEAR\"]=traffic_df[\"CRASH_DATE\"].str.split(\"/\",expand=True)[2].astype(float)\r\n",
    "traffic_df.loc[traffic_df[\"SEVERITY\"]==\"Fatal\"][\"CRASH_YEAR\"].value_counts().sort_index()\r\n"
   ],
   "outputs": [
    {
     "output_type": "execute_result",
     "data": {
      "text/plain": [
       "16.0    171\n",
       "17.0    146\n",
       "18.0    143\n",
       "19.0    152\n",
       "20.0    134\n",
       "Name: CRASH_YEAR, dtype: int64"
      ]
     },
     "metadata": {},
     "execution_count": 16
    }
   ],
   "metadata": {}
  },
  {
   "cell_type": "code",
   "execution_count": 17,
   "source": [
    "## TO-DO/EXPLORE >> This is just to explore the pattern/relationship between variable to see what is happening (the overall picture) after that we can hypothesis/test these relationships and weather they have a significant impact on accidents \r\n",
    "\r\n",
    "# How to round/Lat-lon to narrow down traffic zones (at the moment round to 1)\r\n",
    "\r\n",
    "# Explore the relationships between the roads/suburb (lat/lon) and: \r\n",
    "\r\n",
    "    # Yearly pattern of accidents \r\n",
    "\r\n",
    "    # Pattern of accident by season/months \r\n",
    "\r\n",
    "    # Patterns of accident by day/night # use bin function to separate in 3 hour intervals -- > \r\n",
    "\r\n",
    "## ^^ Try and do groupby.severity\r\n",
    "\r\n",
    "# How the accidents are in relation to: \r\n",
    "    \r\n",
    "    # Year (time series) \r\n",
    "\r\n",
    "    # Season/months \r\n",
    "\r\n",
    "    # Day/night \r\n",
    "\r\n",
    "#Vehicle type (motorcycle/truck/car - other vehicle) - this can also link to cause potentially\r\n",
    "\r\n",
    "    # Day/night \r\n",
    "\r\n",
    "    # Season/month\r\n",
    "    \r\n",
    "    # Year \r\n",
    "\r\n",
    "# Idea, if we can incorporate a colour map "
   ],
   "outputs": [],
   "metadata": {}
  }
 ],
 "metadata": {
  "kernelspec": {
   "name": "python3",
   "display_name": "Python 3.6.10 64-bit ('pythondata': conda)"
  },
  "language_info": {
   "codemirror_mode": {
    "name": "ipython",
    "version": 3
   },
   "file_extension": ".py",
   "mimetype": "text/x-python",
   "name": "python",
   "nbconvert_exporter": "python",
   "pygments_lexer": "ipython3",
   "version": "3.6.10"
  },
  "interpreter": {
   "hash": "0b4f2527d7d2df3f966db050fbea417d67b834030558d4d126ba89140d54f62d"
  }
 },
 "nbformat": 4,
 "nbformat_minor": 2
}