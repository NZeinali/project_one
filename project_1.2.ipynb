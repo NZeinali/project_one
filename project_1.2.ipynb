{
 "cells": [
  {
   "cell_type": "code",
   "execution_count": 1,
   "metadata": {},
   "outputs": [],
   "source": [
    "# Dependencies and Setup\n",
    "import pandas as pd\n",
    "import matplotlib.pyplot as plt\n",
    "import scipy.stats as st\n",
    "\n",
    "# File to Load (Remember to Change These)\n",
    "traffic_file = \"project_data.csv\"\n",
    "\n",
    "speed_file = \"speed_data.csv\"\n",
    "\n",
    "# Read Purchasing File and store into Pandas data frame\n",
    "traffic_df = pd.read_csv(traffic_file)\n",
    "speed_df = pd.read_csv(speed_file)\n",
    "\n",
    "# remove unwanted rows \n",
    "\n",
    "speed_df=speed_df.loc[speed_df['SPEED_LIMIT']!=\"50km/h applies in built up areas or 110km/h outside built up areas\"]\n",
    "speed_df=speed_df.drop_duplicates([\"ROAD_NO\"])\n",
    "\n",
    "\n",
    "# converting date column to date month year \n",
    "\n",
    "traffic_df[[\"day\", \"month\", \"year\"]] = traffic_df[\"CRASH_DATE\"].str.split(\"/\", expand = True)\n",
    "\n",
    "merge_df = pd.merge(traffic_df, speed_df, on=\"ROAD_NO\")\n",
    "\n",
    "\n",
    "# Create a df which are just incidents with fatal, hospital and medical \n",
    "\n",
    "incident_df = traffic_df.loc[traffic_df['SEVERITY']!=\"PDO Minor\"]\n",
    "incident_df = incident_df.loc[incident_df['SEVERITY']!=\"PDO Major\"]\n",
    "\n",
    "merge_2_df = pd.merge(incident_df, speed_df, on=\"ROAD_NO\")\n"
   ]
  },
  {
   "cell_type": "code",
   "execution_count": 2,
   "metadata": {},
   "outputs": [
    {
     "name": "stdout",
     "output_type": "stream",
     "text": [
      "<class 'pandas.core.frame.DataFrame'>\n",
      "Int64Index: 21333 entries, 0 to 21332\n",
      "Data columns (total 27 columns):\n",
      " #   Column                         Non-Null Count  Dtype  \n",
      "---  ------                         --------------  -----  \n",
      " 0   ACC_ID                         21333 non-null  int64  \n",
      " 1   ROAD_NO                        21333 non-null  object \n",
      " 2   ROAD_NAME_x                    21333 non-null  object \n",
      " 3   LONGITUDE                      21333 non-null  float64\n",
      " 4   LATITUDE                       21333 non-null  float64\n",
      " 5   CRASH_DATE                     21333 non-null  object \n",
      " 6   CRASH_TIME                     21241 non-null  float64\n",
      " 7   SEVERITY                       21333 non-null  object \n",
      " 8   EVENT_NATURE                   21007 non-null  object \n",
      " 9   EVENT_TYPE                     2804 non-null   object \n",
      " 10  TOTAL_BIKE_INVOLVED            21333 non-null  int64  \n",
      " 11  TOTAL_TRUCK_INVOLVED           21333 non-null  int64  \n",
      " 12  TOTAL_HEAVY_TRUCK_INVOLVED     21333 non-null  int64  \n",
      " 13  TOTAL_MOTOR_CYCLE_INVOLVED     21333 non-null  int64  \n",
      " 14  TOTAL_OTHER_VEHICLES_INVOLVED  21333 non-null  int64  \n",
      " 15  TOTAL_PEDESTRIANS_INVOLVED     21333 non-null  int64  \n",
      " 16  day                            21333 non-null  object \n",
      " 17  month                          21333 non-null  object \n",
      " 18  year                           21333 non-null  object \n",
      " 19  OBJECTID                       21333 non-null  int64  \n",
      " 20  ROAD_NAME_y                    21333 non-null  object \n",
      " 21  COMMON_USAGE_NAME              21333 non-null  object \n",
      " 22  RA_NAME                        21333 non-null  object \n",
      " 23  LG_NAME                        21333 non-null  object \n",
      " 24  SPEED_LIMIT                    21333 non-null  object \n",
      " 25  ROUTE_NE_ID                    21333 non-null  int64  \n",
      " 26  GEOLOCSTLength                 21333 non-null  float64\n",
      "dtypes: float64(4), int64(9), object(14)\n",
      "memory usage: 4.6+ MB\n"
     ]
    }
   ],
   "source": [
    "#speed_df[\"SPEED_LIMIT\"].value_counts()\n",
    "\n",
    "merge_2_df.info()"
   ]
  },
  {
   "cell_type": "code",
   "execution_count": 3,
   "metadata": {},
   "outputs": [
    {
     "name": "stdout",
     "output_type": "stream",
     "text": [
      "<class 'pandas.core.frame.DataFrame'>\n",
      "Int64Index: 21333 entries, 0 to 21332\n",
      "Data columns (total 10 columns):\n",
      " #   Column      Non-Null Count  Dtype  \n",
      "---  ------      --------------  -----  \n",
      " 0   Incident    21333 non-null  int64  \n",
      " 1   day         21333 non-null  object \n",
      " 2   month       21333 non-null  object \n",
      " 3   year        21333 non-null  object \n",
      " 4   Crash time  21241 non-null  float64\n",
      " 5   Severity    21333 non-null  object \n",
      " 6   Road        21333 non-null  object \n",
      " 7   Region      21333 non-null  object \n",
      " 8   Suburb      21333 non-null  object \n",
      " 9   Speed       21333 non-null  object \n",
      "dtypes: float64(1), int64(1), object(8)\n",
      "memory usage: 1.8+ MB\n"
     ]
    }
   ],
   "source": [
    "#SORTING OUT DATA FRAME \n",
    "\n",
    "\n",
    "merge_3_df = merge_2_df[[\"OBJECTID\", \"day\", \"month\", \"year\", \"CRASH_TIME\", \"SEVERITY\", \"COMMON_USAGE_NAME\", \"RA_NAME\", \"LG_NAME\", \"SPEED_LIMIT\"]]\n",
    "\n",
    "merge_3_df.head()\n",
    "\n",
    "merge_3_df = merge_3_df.rename(columns={\"COMMON_USAGE_NAME\": \"Road\",\n",
    "                                            \"LG_NAME\": \"Suburb\", \n",
    "                                            \"RA_NAME\": \"Region\",\n",
    "                                            \"SPEED_LIMIT\": \"Speed\",\n",
    "                                            \"CRASH_TIME\": \"Crash time\",\n",
    "                                            \"OBJECTID\": \"Incident\",\n",
    "                                            \"SEVERITY\": \"Severity\"})\n",
    "\n",
    "\n",
    "merge_3_df[\"Severity\"].value_counts()\n",
    "\n",
    "merge_3_df.info()"
   ]
  },
  {
   "cell_type": "code",
   "execution_count": 4,
   "metadata": {},
   "outputs": [
    {
     "data": {
      "text/plain": "<AxesSubplot:title={'center':'Traffic Incidents per Year'}, ylabel='Traffic Incidents'>"
     },
     "execution_count": 4,
     "metadata": {},
     "output_type": "execute_result"
    },
    {
     "data": {
      "image/png": "[encoded data removed]",
      "text/plain": "<Figure size 720x360 with 1 Axes>"
     },
     "metadata": {
      "needs_background": "light"
     },
     "output_type": "display_data"
    }
   ],
   "source": [
    "#graphing without PDOs\n",
    "\n",
    "incident_df['year'].replace({\"16\":\"2016\",\"17\": \"2017\", \"18\": \"2018\", \"19\": \"2019\", \"20\": \"2020\"}, inplace=True)\n",
    "\n",
    "incident_year = incident_df[\"year\"].value_counts()\n",
    "\n",
    "incident_2_df = pd.DataFrame({\"Traffic Incidents\": incident_year})\n",
    "\n",
    "#rearrange so year is 2016 to 2020 \n",
    "incident_2_df = incident_2_df.sort_index(ascending=True)\n",
    "\n",
    "# graphing \n",
    "\n",
    "pandas_plot = incident_2_df.plot.bar(figsize=(10,5), color=\"orange\",fontsize = 10)\n",
    "plt.ylabel(\"Traffic Incidents\")\n",
    "plt.title(\"Traffic Incidents per Year\")\n",
    "\n",
    "pandas_plot"
   ]
  },
  {
   "cell_type": "code",
   "execution_count": 12,
   "metadata": {},
   "outputs": [
    {
     "data": {
      "text/plain": "<AxesSubplot:title={'center':'Traffic Incidents at Hourly Intervals'}, ylabel='Traffic Incidents'>"
     },
     "execution_count": 12,
     "metadata": {},
     "output_type": "execute_result"
    },
    {
     "data": {
      "image/png": "[encoded data removed]",
      "text/plain": "<Figure size 720x360 with 1 Axes>"
     },
     "metadata": {
      "needs_background": "light"
     },
     "output_type": "display_data"
    }
   ],
   "source": [
    " # Patterns of accident by day/night # use bin function to separate in 3 hour intervals for non PDO data\n",
    "\n",
    "time_bins = [0, 359, 659, 959, 1259, 1559, 1859, 2159, 2359]\n",
    "time_names = [\"0-3\", \"4-6\", \"7-9\", \"10-12\", \"13-15\", \"16-18\", \"19-21\", \"22-24\"]\n",
    "\n",
    "group_2_time_df = merge_3_df\n",
    "group_2_time_df[\"Time Interval\"] = pd.cut(group_2_time_df[\"Crash time\"],time_bins, labels=time_names)\n",
    "group_2_time_df\n",
    "\n",
    "group_2_time_df[\"Time Interval\"].count()\n",
    "\n",
    "time_2_df = group_2_time_df.groupby(\"Time Interval\")\n",
    "time_2_df.count()\n",
    "\n",
    "time_2_incident = time_2_df[\"Incident\"].count()\n",
    "\n",
    "time_3_incident_df = pd.DataFrame({\"Traffic Incidents\": time_2_incident})\n",
    "\n",
    "time_3_incident_df\n",
    "\n",
    "pandas_plot = time_3_incident_df.plot.bar(figsize=(10,5), color=\"green\",fontsize = 10)\n",
    "plt.xlabel(\"\")\n",
    "plt.ylabel(\"Traffic Incidents\")\n",
    "plt.title(\"Traffic Incidents at Hourly Intervals\")\n",
    "\n",
    "pandas_plot"
   ]
  },
  {
   "cell_type": "code",
   "execution_count": 13,
   "metadata": {},
   "outputs": [
    {
     "data": {
      "text/plain": "Metropolitan              16260\nSouth West                 1343\nWheatbelt                  1227\nGoldfields - Esperance      924\nGreat Southern              607\nMid West-Gascoyne           409\nKimberley                   395\nPilbara                     168\nName: Region, dtype: int64"
     },
     "execution_count": 13,
     "metadata": {},
     "output_type": "execute_result"
    }
   ],
   "source": [
    "merge_3_df[\"Region\"].value_counts()"
   ]
  },
  {
   "cell_type": "code",
   "execution_count": 9,
   "metadata": {},
   "outputs": [
    {
     "data": {
      "text/plain": "Stirling (C)               2457\nSwan (C)                   1752\nCockburn (C)               1273\nVincent (C)                1161\nWanneroo (C)                998\nPerth (C)                   896\nSouth Perth (C)             895\nFremantle (C)               890\nGosnells (C)                618\nJoondalup (C)               618\nKalamunda                   572\nSerpentine - Jarrahdale     559\nMelville (C)                551\nCanning (C)                 469\nRockingham (C)              464\nBayswater (C)               458\nArmadale (C)                270\nNedlands (C)                231\nVictoria Park (T)           231\nCambridge (T)               222\nKwinana (C)                 209\nBelmont (C)                 163\nMundaring                    99\nSubiaco (C)                  84\nBassendean (T)               55\nClaremont (T)                30\nCottesloe (T)                11\nEast Fremantle (T)            9\nKings Park                    6\nMurray                        5\nRottnest                      4\nName: Suburb, dtype: int64"
     },
     "execution_count": 9,
     "metadata": {},
     "output_type": "execute_result"
    }
   ],
   "source": [
    "#suburb >> severity // lat/long scatter data for population \n",
    "\n",
    "#trying by metro \n",
    "\n",
    "merge_3_df[\"Region\"].value_counts()\n",
    "\n",
    "metro_2_df = merge_3_df.loc[merge_3_df['Region']!=\"South West\"]\n",
    "metro_3_df = metro_2_df.loc[merge_3_df['Region']!=\"Great Southern\"]\n",
    "metro_4_df = metro_3_df.loc[merge_3_df['Region']!=\"Mid West-Gascoyne\"]\n",
    "metro_5_df = metro_4_df.loc[merge_3_df['Region']!=\"Goldfields - Esperance\"]\n",
    "metro_6_df = metro_5_df.loc[merge_3_df['Region']!=\"Kimberley\"]\n",
    "metro_7_df = metro_6_df.loc[merge_3_df['Region']!=\"Pilbara\"]\n",
    "metro_8_df = metro_7_df.loc[merge_3_df['Region']!=\"Wheatbelt\"]\n",
    "\n",
    "metro_8_df['Suburb'].value_counts()\n",
    "\n",
    "# separate by severity \n",
    "\n",
    "# north/south \n",
    "# bar/graph \n"
   ]
  },
  {
   "cell_type": "code",
   "execution_count": 16,
   "metadata": {},
   "outputs": [
    {
     "data": {
      "text/plain": "Suburb\nStirling (C)               1952\nSwan (C)                   1352\nCockburn (C)                982\nVincent (C)                 924\nWanneroo (C)                761\nFremantle (C)               724\nPerth (C)                   706\nSouth Perth (C)             694\nJoondalup (C)               509\nGosnells (C)                501\nMelville (C)                440\nKalamunda                   407\nSerpentine - Jarrahdale     382\nCanning (C)                 356\nBayswater (C)               350\nRockingham (C)              319\nArmadale (C)                186\nNedlands (C)                179\nCambridge (T)               176\nVictoria Park (T)           163\nKwinana (C)                 121\nBelmont (C)                 106\nSubiaco (C)                  65\nMundaring                    58\nBassendean (T)               38\nClaremont (T)                24\nCottesloe (T)                 6\nEast Fremantle (T)            3\nKings Park                    3\nMurray                        2\nRottnest                      2\nName: Suburb, dtype: int64"
     },
     "execution_count": 16,
     "metadata": {},
     "output_type": "execute_result"
    }
   ],
   "source": [
    "severe_metro_df = metro_8_df.groupby(['Severity'])\n",
    "severe_metro_df = severe_metro_df[\"Suburb\"].value_counts()\n",
    "\n",
    "severe_metro_df[\"Hospital\"]\n",
    "severe_metro_df[\"Fatal\"]\n",
    "severe_metro_df[\"Medical\"]\n",
    "\n"
   ]
  },
  {
   "cell_type": "code",
   "execution_count": 33,
   "metadata": {},
   "outputs": [
    {
     "name": "stderr",
     "output_type": "stream",
     "text": [
      "<ipython-input-33-d7cbaee23444>:7: SettingWithCopyWarning: \n",
      "A value is trying to be set on a copy of a slice from a DataFrame.\n",
      "Try using .loc[row_indexer,col_indexer] = value instead\n",
      "\n",
      "See the caveats in the documentation: https://pandas.pydata.org/pandas-docs/stable/user_guide/indexing.html#returning-a-view-versus-a-copy\n",
      "  group_2_time_df[\"Time Interval\"] = pd.cut(merge_3_df[\"Crash time\"],time_bins, labels=time_names)\n"
     ]
    },
    {
     "data": {
      "text/plain": "Suburb        Time Interval\nArmadale (C)  13-15             67\n              7-9               53\n              16-18             50\n              10-12             41\n              19-21             24\n                              ... \nWanneroo (C)  10-12            146\n              19-21            108\n              4-6               62\n              22-24             20\n              0-3                9\nName: Time Interval, Length: 221, dtype: int64"
     },
     "execution_count": 33,
     "metadata": {},
     "output_type": "execute_result"
    }
   ],
   "source": [
    "#Suburb by time-interval\n",
    "\n",
    "time_bins = [0, 359, 659, 959, 1259, 1559, 1859, 2159, 2359]\n",
    "time_names = [\"0-3\", \"4-6\", \"7-9\", \"10-12\", \"13-15\", \"16-18\", \"19-21\", \"22-24\"]\n",
    "\n",
    "group_2_time_df = metro_8_df\n",
    "group_2_time_df[\"Time Interval\"] = pd.cut(merge_3_df[\"Crash time\"],time_bins, labels=time_names)\n",
    "group_2_time_df\n",
    "\n",
    "group_3_time = group_2_time_df.groupby('Suburb')\n",
    "group_3_time[\"Time Interval\"].value_counts()"
   ]
  },
  {
   "cell_type": "code",
   "execution_count": 32,
   "metadata": {},
   "outputs": [
    {
     "data": {
      "text/plain": "Suburb        Time Interval\nArmadale (C)  13-15             67\n              7-9               53\n              16-18             50\n              10-12             41\n              19-21             24\n                              ... \nWanneroo (C)  10-12            146\n              19-21            108\n              4-6               62\n              22-24             20\n              0-3                9\nName: Time Interval, Length: 221, dtype: int64"
     },
     "execution_count": 32,
     "metadata": {},
     "output_type": "execute_result"
    }
   ],
   "source": [
    "group_3_time = group_2_time_df.groupby('Suburb')\n",
    "group_3_time[\"Time Interval\"].value_counts()"
   ]
  },
  {
   "cell_type": "code",
   "execution_count": 73,
   "metadata": {},
   "outputs": [],
   "source": [
    "# git remote -v \n",
    "\n",
    "# git add \n",
    "# git commit - m \"changes\"\n",
    "# git push origin justin"
   ]
  },
  {
   "cell_type": "code",
   "execution_count": null,
   "metadata": {},
   "outputs": [],
   "source": [
    "\n",
    "# ANOVA i reckon test difference means for the different speed limits and suburb \n",
    "\n",
    "# Data story >> what policy advise we can give form the data \n",
    "# 60 v 100 \n",
    "\n",
    "#there is no one size fit all solution, each hour of the day is different, each road is different, each suburb is different if the RSC they may need to shift the perspective of simply what is causing the accident but to target when and where it is happening. \n",
    "\n",
    "#passing off the reduction in incidents to solely the driver is not sufficient with campaigns targetting responsibility of the driver is not sufficient  \n"
   ]
  }
 ],
 "metadata": {
  "kernelspec": {
   "display_name": "Python 3.8.8 64-bit ('base': conda)",
   "name": "python388jvsc74a57bd06ae5a69d51937321194477b0fe6b784bc91adc50b6dc6daadd06e0a4296b18e7"
  },
  "language_info": {
   "codemirror_mode": {
    "name": "ipython",
    "version": 3
   },
   "file_extension": ".py",
   "mimetype": "text/x-python",
   "name": "python",
   "nbconvert_exporter": "python",
   "pygments_lexer": "ipython3",
   "version": "3.8.8"
  }
 },
 "nbformat": 4,
 "nbformat_minor": 2
}