{
 "cells": [
  {
   "cell_type": "code",
   "execution_count": 2,
   "metadata": {},
   "outputs": [],
   "source": [
    "# Dependencies and Setup\n",
    "import pandas as pd\n",
    "import matplotlib.pyplot as plt\n",
    "import scipy.stats as st\n",
    "\n",
    "# File to Load (Remember to Change These)\n",
    "traffic_file = \"project_data.csv\"\n",
    "\n",
    "speed_file = \"speed_data.csv\"\n",
    "\n",
    "# Read Purchasing File and store into Pandas data frame\n",
    "traffic_df = pd.read_csv(traffic_file)\n",
    "speed_df = pd.read_csv(speed_file)\n",
    "\n",
    "# remove unwanted rows \n",
    "\n",
    "speed_df=speed_df.loc[speed_df['SPEED_LIMIT']!=\"50km/h applies in built up areas or 110km/h outside built up areas\"]\n",
    "speed_df=speed_df.drop_duplicates([\"ROAD_NO\"])\n",
    "\n",
    "# converting date column to date month year \n",
    "\n",
    "traffic_df[[\"day\", \"month\", \"year\"]] = traffic_df[\"CRASH_DATE\"].str.split(\"/\", expand = True)\n",
    "\n",
    "merge_df = pd.merge(traffic_df, speed_df, on=\"ROAD_NO\")\n",
    "\n",
    "\n",
    "# Create a df which are just incidents with fatal, hospital and medical \n",
    "\n",
    "incident_df = traffic_df.loc[traffic_df['SEVERITY']!=\"PDO Minor\"]\n",
    "incident_df = incident_df.loc[incident_df['SEVERITY']!=\"PDO Major\"]\n",
    "\n",
    "merge_2_df = pd.merge(incident_df, speed_df, on=\"ROAD_NO\")\n"
   ]
  },
  {
   "cell_type": "code",
   "execution_count": 3,
   "metadata": {},
   "outputs": [
    {
     "name": "stdout",
     "output_type": "stream",
     "text": [
      "<class 'pandas.core.frame.DataFrame'>\n",
      "Int64Index: 21333 entries, 0 to 21332\n",
      "Data columns (total 27 columns):\n",
      " #   Column                         Non-Null Count  Dtype  \n",
      "---  ------                         --------------  -----  \n",
      " 0   ACC_ID                         21333 non-null  int64  \n",
      " 1   ROAD_NO                        21333 non-null  object \n",
      " 2   ROAD_NAME_x                    21333 non-null  object \n",
      " 3   LONGITUDE                      21333 non-null  float64\n",
      " 4   LATITUDE                       21333 non-null  float64\n",
      " 5   CRASH_DATE                     21333 non-null  object \n",
      " 6   CRASH_TIME                     21241 non-null  float64\n",
      " 7   SEVERITY                       21333 non-null  object \n",
      " 8   EVENT_NATURE                   21007 non-null  object \n",
      " 9   EVENT_TYPE                     2804 non-null   object \n",
      " 10  TOTAL_BIKE_INVOLVED            21333 non-null  int64  \n",
      " 11  TOTAL_TRUCK_INVOLVED           21333 non-null  int64  \n",
      " 12  TOTAL_HEAVY_TRUCK_INVOLVED     21333 non-null  int64  \n",
      " 13  TOTAL_MOTOR_CYCLE_INVOLVED     21333 non-null  int64  \n",
      " 14  TOTAL_OTHER_VEHICLES_INVOLVED  21333 non-null  int64  \n",
      " 15  TOTAL_PEDESTRIANS_INVOLVED     21333 non-null  int64  \n",
      " 16  day                            21333 non-null  object \n",
      " 17  month                          21333 non-null  object \n",
      " 18  year                           21333 non-null  object \n",
      " 19  OBJECTID                       21333 non-null  int64  \n",
      " 20  ROAD_NAME_y                    21333 non-null  object \n",
      " 21  COMMON_USAGE_NAME              21333 non-null  object \n",
      " 22  RA_NAME                        21333 non-null  object \n",
      " 23  LG_NAME                        21333 non-null  object \n",
      " 24  SPEED_LIMIT                    21333 non-null  object \n",
      " 25  ROUTE_NE_ID                    21333 non-null  int64  \n",
      " 26  GEOLOCSTLength                 21333 non-null  float64\n",
      "dtypes: float64(4), int64(9), object(14)\n",
      "memory usage: 4.6+ MB\n"
     ]
    }
   ],
   "source": [
    "#speed_df[\"SPEED_LIMIT\"].value_counts()\n",
    "\n",
    "merge_2_df.info()"
   ]
  },
  {
   "cell_type": "code",
   "execution_count": 4,
   "metadata": {},
   "outputs": [
    {
     "name": "stdout",
     "output_type": "stream",
     "text": [
      "<class 'pandas.core.frame.DataFrame'>\n",
      "Int64Index: 21333 entries, 0 to 21332\n",
      "Data columns (total 10 columns):\n",
      " #   Column      Non-Null Count  Dtype  \n",
      "---  ------      --------------  -----  \n",
      " 0   Incident    21333 non-null  int64  \n",
      " 1   day         21333 non-null  object \n",
      " 2   month       21333 non-null  object \n",
      " 3   year        21333 non-null  object \n",
      " 4   Crash time  21241 non-null  float64\n",
      " 5   Severity    21333 non-null  object \n",
      " 6   Road        21333 non-null  object \n",
      " 7   Region      21333 non-null  object \n",
      " 8   Suburb      21333 non-null  object \n",
      " 9   Speed       21333 non-null  object \n",
      "dtypes: float64(1), int64(1), object(8)\n",
      "memory usage: 1.8+ MB\n"
     ]
    }
   ],
   "source": [
    "#SORTING OUT DATA FRAME \n",
    "\n",
    "merge_3_df = merge_2_df[[\"OBJECTID\", \"day\", \"month\", \"year\", \"CRASH_TIME\", \"SEVERITY\", \"COMMON_USAGE_NAME\", \"RA_NAME\", \"LG_NAME\", \"SPEED_LIMIT\"]]\n",
    "merge_3_df.head()\n",
    "merge_3_df = merge_3_df.rename(columns={\"COMMON_USAGE_NAME\": \"Road\",\n",
    "                                            \"LG_NAME\": \"Suburb\", \n",
    "                                            \"RA_NAME\": \"Region\",\n",
    "                                            \"SPEED_LIMIT\": \"Speed\",\n",
    "                                            \"CRASH_TIME\": \"Crash time\",\n",
    "                                            \"OBJECTID\": \"Incident\",\n",
    "                                            \"SEVERITY\": \"Severity\"})\n",
    "\n",
    "\n",
    "merge_3_df[\"Severity\"].value_counts()\n",
    "merge_3_df.info()"
   ]
  },
  {
   "cell_type": "code",
   "execution_count": 25,
   "metadata": {},
   "outputs": [
    {
     "data": {
      "text/plain": "<AxesSubplot:title={'center':'Traffic Incidents per Year'}, ylabel='Traffic Incidents'>"
     },
     "execution_count": 25,
     "metadata": {},
     "output_type": "execute_result"
    },
    {
     "data": {
      "image/png": "[encoded data removed]",
      "text/plain": "<Figure size 720x360 with 1 Axes>"
     },
     "metadata": {
      "needs_background": "light"
     },
     "output_type": "display_data"
    }
   ],
   "source": [
    "#graphing without PDOs\n",
    "\n",
    "incident_df['year'].replace({\"16\":\"2016\",\"17\": \"2017\", \"18\": \"2018\", \"19\": \"2019\", \"20\": \"2020\"}, inplace=True)\n",
    "incident_year = incident_df[\"year\"].value_counts()\n",
    "incident_2_df = pd.DataFrame({\"Traffic Incidents\": incident_year})\n",
    "\n",
    "#rearrange so year is 2016 to 2020 \n",
    "incident_2_df = incident_2_df.sort_index(ascending=True)\n",
    "\n",
    "# graphing \n",
    "\n",
    "pandas_plot = incident_2_df.plot.bar(figsize=(10,5), color=\"orange\",fontsize = 10,rot=0)\n",
    "plt.ylabel(\"Traffic Incidents\")\n",
    "plt.title(\"Traffic Incidents per Year\")\n",
    "\n",
    "pandas_plot"
   ]
  },
  {
   "cell_type": "code",
   "execution_count": 110,
   "metadata": {},
   "outputs": [
    {
     "data": {
      "text/plain": "<AxesSubplot:title={'center':'Traffic Incidents at Hourly Intervals'}, ylabel='Traffic Incidents'>"
     },
     "execution_count": 110,
     "metadata": {},
     "output_type": "execute_result"
    },
    {
     "data": {
      "image/png": "[encoded data removed]",
      "text/plain": "<Figure size 720x360 with 1 Axes>"
     },
     "metadata": {
      "needs_background": "light"
     },
     "output_type": "display_data"
    }
   ],
   "source": [
    " # Patterns of accident by day/night # use bin function to separate in 3 hour intervals for non PDO data\n",
    "\n",
    "time_bins = [0, 259, 559, 859, 1159, 1459, 1759, 2059, 2359]\n",
    "time_names = [\"0-3\", \"3-6\", \"6-9\", \"9-12\", \"12-15\", \"15-18\", \"18-21\", \"21-24\"]\n",
    "\n",
    "group_2_time_df = merge_3_df\n",
    "group_2_time_df[\"Time Interval\"] = pd.cut(group_2_time_df[\"Crash time\"],time_bins, labels=time_names)\n",
    "group_2_time_df\n",
    "\n",
    "group_2_time_df[\"Time Interval\"].count()\n",
    "\n",
    "time_2_df = group_2_time_df.groupby(\"Time Interval\")\n",
    "time_2_df.count()\n",
    "\n",
    "time_2_incident = time_2_df[\"Incident\"].count()\n",
    "\n",
    "time_3_incident_df = pd.DataFrame({\"Traffic Incidents\": time_2_incident})\n",
    "\n",
    "time_3_incident_df\n",
    "\n",
    "pandas_plot = time_3_incident_df.plot.bar(figsize=(10,5), color=\"green\",fontsize = 10,rot=0)\n",
    "plt.xlabel(\"\")\n",
    "plt.ylabel(\"Traffic Incidents\")\n",
    "plt.title(\"Traffic Incidents at Hourly Intervals\")\n",
    "\n",
    "pandas_plot"
   ]
  },
  {
   "cell_type": "code",
   "execution_count": 8,
   "metadata": {},
   "outputs": [
    {
     "data": {
      "text/plain": "Stirling (C)               2457\nSwan (C)                   1752\nCockburn (C)               1273\nVincent (C)                1161\nWanneroo (C)                998\nPerth (C)                   896\nSouth Perth (C)             895\nFremantle (C)               890\nGosnells (C)                618\nJoondalup (C)               618\nKalamunda                   572\nSerpentine - Jarrahdale     559\nMelville (C)                551\nCanning (C)                 469\nRockingham (C)              464\nBayswater (C)               458\nArmadale (C)                270\nNedlands (C)                231\nVictoria Park (T)           231\nCambridge (T)               222\nKwinana (C)                 209\nBelmont (C)                 163\nMundaring                    99\nSubiaco (C)                  84\nBassendean (T)               55\nClaremont (T)                30\nCottesloe (T)                11\nEast Fremantle (T)            9\nKings Park                    6\nMurray                        5\nRottnest                      4\nName: Suburb, dtype: int64"
     },
     "execution_count": 8,
     "metadata": {},
     "output_type": "execute_result"
    }
   ],
   "source": [
    "#suburb >> severity // lat/long scatter data for population \n",
    "\n",
    "#trying by metro \n",
    "\n",
    "merge_3_df[\"Region\"].value_counts()\n",
    "\n",
    "metro_2_df = merge_3_df.loc[merge_3_df['Region']!=\"South West\"]\n",
    "metro_3_df = metro_2_df.loc[merge_3_df['Region']!=\"Great Southern\"]\n",
    "metro_4_df = metro_3_df.loc[merge_3_df['Region']!=\"Mid West-Gascoyne\"]\n",
    "metro_5_df = metro_4_df.loc[merge_3_df['Region']!=\"Goldfields - Esperance\"]\n",
    "metro_6_df = metro_5_df.loc[merge_3_df['Region']!=\"Kimberley\"]\n",
    "metro_7_df = metro_6_df.loc[merge_3_df['Region']!=\"Pilbara\"]\n",
    "metro_8_df = metro_7_df.loc[merge_3_df['Region']!=\"Wheatbelt\"]\n",
    "\n",
    "metro_8_df['Suburb'].value_counts()\n",
    "\n",
    "# separate by severity \n",
    "\n",
    "# north/south \n",
    "# bar/graph \n",
    "\n",
    "\n",
    "#i'll do an overall graph for fatal in suburb, medical and hospitalisaiton \n",
    "#I will just touch on time interval \n"
   ]
  },
  {
   "cell_type": "code",
   "execution_count": 71,
   "metadata": {},
   "outputs": [],
   "source": [
    "# Grouping incident count by severity for each suburb\n",
    "\n",
    "severe_metro_df = metro_8_df.groupby(['Severity'])\n",
    "severe_metro = severe_metro_df[\"Suburb\"].value_counts()\n",
    "\n",
    "suburb_time_df = severe_metro_df[\"Severity\"].value_counts()\n",
    "suburb_time_df = pd.DataFrame({\"Incident Count\": severe_metro})\n",
    "\n"
   ]
  },
  {
   "cell_type": "code",
   "execution_count": 158,
   "metadata": {},
   "outputs": [
    {
     "ename": "KeyError",
     "evalue": "\"None of ['Cockburn', 'Stirling', 'Swan', 'Kalamunda', 'Serpentine', 'Vincent', 'Wanneroo', 'Perth'] are in the columns\"",
     "output_type": "error",
     "traceback": [
      "\u001b[0;31m---------------------------------------------------------------------------\u001b[0m",
      "\u001b[0;31mKeyError\u001b[0m                                  Traceback (most recent call last)",
      "\u001b[0;32m<ipython-input-158-8e39801ca6f4>\u001b[0m in \u001b[0;36m<module>\u001b[0;34m\u001b[0m\n\u001b[1;32m     19\u001b[0m \u001b[0mfatal_metro_df\u001b[0m \u001b[0;34m=\u001b[0m \u001b[0mpd\u001b[0m\u001b[0;34m.\u001b[0m\u001b[0mDataFrame\u001b[0m\u001b[0;34m(\u001b[0m\u001b[0mfatal_metro\u001b[0m\u001b[0;34m,\u001b[0m \u001b[0mcolumns\u001b[0m\u001b[0;34m=\u001b[0m\u001b[0;34m[\u001b[0m\u001b[0;34m'Suburb'\u001b[0m\u001b[0;34m,\u001b[0m \u001b[0;34m'Fatal Incidents'\u001b[0m\u001b[0;34m]\u001b[0m\u001b[0;34m)\u001b[0m\u001b[0;34m\u001b[0m\u001b[0;34m\u001b[0m\u001b[0m\n\u001b[1;32m     20\u001b[0m \u001b[0mindex\u001b[0m\u001b[0;34m=\u001b[0m\u001b[0;34m[\u001b[0m\u001b[0;34m\"Cockburn\"\u001b[0m\u001b[0;34m,\u001b[0m \u001b[0;34m\"Stirling\"\u001b[0m\u001b[0;34m,\u001b[0m \u001b[0;34m\"Swan\"\u001b[0m\u001b[0;34m,\u001b[0m \u001b[0;34m\"Kalamunda\"\u001b[0m\u001b[0;34m,\u001b[0m \u001b[0;34m\"Serpentine\"\u001b[0m\u001b[0;34m,\u001b[0m \u001b[0;34m\"Vincent\"\u001b[0m\u001b[0;34m,\u001b[0m \u001b[0;34m\"Wanneroo\"\u001b[0m\u001b[0;34m,\u001b[0m \u001b[0;34m\"Perth\"\u001b[0m\u001b[0;34m]\u001b[0m\u001b[0;34m\u001b[0m\u001b[0;34m\u001b[0m\u001b[0m\n\u001b[0;32m---> 21\u001b[0;31m \u001b[0mfatal_metro_df\u001b[0m\u001b[0;34m=\u001b[0m\u001b[0mfatal_metro_df\u001b[0m\u001b[0;34m.\u001b[0m\u001b[0mset_index\u001b[0m\u001b[0;34m(\u001b[0m\u001b[0mindex\u001b[0m\u001b[0;34m)\u001b[0m\u001b[0;34m\u001b[0m\u001b[0;34m\u001b[0m\u001b[0m\n\u001b[0m\u001b[1;32m     22\u001b[0m \u001b[0;34m\u001b[0m\u001b[0m\n\u001b[1;32m     23\u001b[0m \u001b[0mpandas_plot\u001b[0m \u001b[0;34m=\u001b[0m \u001b[0mfatal_metro_df\u001b[0m\u001b[0;34m.\u001b[0m\u001b[0mplot\u001b[0m\u001b[0;34m.\u001b[0m\u001b[0mbar\u001b[0m\u001b[0;34m(\u001b[0m\u001b[0mfigsize\u001b[0m\u001b[0;34m=\u001b[0m\u001b[0;34m(\u001b[0m\u001b[0;36m10\u001b[0m\u001b[0;34m,\u001b[0m\u001b[0;36m5\u001b[0m\u001b[0;34m)\u001b[0m\u001b[0;34m,\u001b[0m \u001b[0mcolor\u001b[0m\u001b[0;34m=\u001b[0m\u001b[0;34m\"green\"\u001b[0m\u001b[0;34m,\u001b[0m\u001b[0mrot\u001b[0m\u001b[0;34m=\u001b[0m\u001b[0;36m0\u001b[0m\u001b[0;34m)\u001b[0m\u001b[0;34m\u001b[0m\u001b[0;34m\u001b[0m\u001b[0m\n",
      "\u001b[0;32m~/opt/anaconda3/lib/python3.8/site-packages/pandas/core/frame.py\u001b[0m in \u001b[0;36mset_index\u001b[0;34m(self, keys, drop, append, inplace, verify_integrity)\u001b[0m\n\u001b[1;32m   4725\u001b[0m \u001b[0;34m\u001b[0m\u001b[0m\n\u001b[1;32m   4726\u001b[0m         \u001b[0;32mif\u001b[0m \u001b[0mmissing\u001b[0m\u001b[0;34m:\u001b[0m\u001b[0;34m\u001b[0m\u001b[0;34m\u001b[0m\u001b[0m\n\u001b[0;32m-> 4727\u001b[0;31m             \u001b[0;32mraise\u001b[0m \u001b[0mKeyError\u001b[0m\u001b[0;34m(\u001b[0m\u001b[0;34mf\"None of {missing} are in the columns\"\u001b[0m\u001b[0;34m)\u001b[0m\u001b[0;34m\u001b[0m\u001b[0;34m\u001b[0m\u001b[0m\n\u001b[0m\u001b[1;32m   4728\u001b[0m \u001b[0;34m\u001b[0m\u001b[0m\n\u001b[1;32m   4729\u001b[0m         \u001b[0;32mif\u001b[0m \u001b[0minplace\u001b[0m\u001b[0;34m:\u001b[0m\u001b[0;34m\u001b[0m\u001b[0;34m\u001b[0m\u001b[0m\n",
      "\u001b[0;31mKeyError\u001b[0m: \"None of ['Cockburn', 'Stirling', 'Swan', 'Kalamunda', 'Serpentine', 'Vincent', 'Wanneroo', 'Perth'] are in the columns\""
     ]
    }
   ],
   "source": [
    "severity_df = metro_8_df.loc[metro_8_df[\"Severity\"]==\"Fatal\"]\n",
    "\n",
    "severity = severity_df.groupby(\"Suburb\")\n",
    "\n",
    "severity_suburb_df = severity[\"Severity\"].value_counts()\n",
    "\n",
    "severity_suburb_df\n",
    "\n",
    "#severity_type_groupby = metro_8_df.groupby([\"Suburb\"])[\"Severity\"].value_counts()\n",
    "#severity_type_groupby\n",
    "\n",
    "\n",
    "\n",
    "fatal_metro = {'Suburb': [\"Cockburn\", \"Stirling\", \"Swan\", \"Kalamunda\", \"Serpentine\", \"Vincent\", \"Wanneroo\", \"Perth\"], \n",
    "                'Fatal Incidents': [21, 26, 28, 11, 17, 10, 18, 15]}\n",
    "\n",
    "\n",
    "\n",
    "fatal_metro_df = pd.DataFrame(fatal_metro, columns=['Suburb', 'Fatal Incidents']) \n",
    "index=[\"Cockburn\", \"Stirling\", \"Swan\", \"Kalamunda\", \"Serpentine\", \"Vincent\", \"Wanneroo\", \"Perth\"]\n",
    "fatal_metro_df=fatal_metro_df.set_index(index)\n",
    "\n",
    "pandas_plot = fatal_metro_df.plot.bar(figsize=(10,5), color=\"green\",rot=0)\n",
    "plt.xlabel(\"Suburbs\")\n",
    "plt.ylabel(\"Fatal Incidents\")\n",
    "plt.title(\"Fatal Incidents in Suburbs\")\n",
    "\n",
    "\n"
   ]
  },
  {
   "cell_type": "code",
   "execution_count": 160,
   "metadata": {},
   "outputs": [
    {
     "ename": "AttributeError",
     "evalue": "'BarContainer' object has no attribute 'set_figheight'",
     "output_type": "error",
     "traceback": [
      "\u001b[0;31m---------------------------------------------------------------------------\u001b[0m",
      "\u001b[0;31mAttributeError\u001b[0m                            Traceback (most recent call last)",
      "\u001b[0;32m<ipython-input-160-ff4bea8d4e6c>\u001b[0m in \u001b[0;36m<module>\u001b[0;34m\u001b[0m\n\u001b[1;32m     14\u001b[0m \u001b[0;34m\u001b[0m\u001b[0m\n\u001b[1;32m     15\u001b[0m \u001b[0;34m\u001b[0m\u001b[0m\n\u001b[0;32m---> 16\u001b[0;31m \u001b[0mfig\u001b[0m\u001b[0;34m.\u001b[0m\u001b[0mset_figheight\u001b[0m\u001b[0;34m(\u001b[0m\u001b[0;36m20\u001b[0m\u001b[0;34m)\u001b[0m\u001b[0;34m\u001b[0m\u001b[0;34m\u001b[0m\u001b[0m\n\u001b[0m\u001b[1;32m     17\u001b[0m \u001b[0mfig\u001b[0m\u001b[0;34m.\u001b[0m\u001b[0mset_figwidth\u001b[0m\u001b[0;34m(\u001b[0m\u001b[0;36m10\u001b[0m\u001b[0;34m)\u001b[0m\u001b[0;34m\u001b[0m\u001b[0;34m\u001b[0m\u001b[0m\n",
      "\u001b[0;31mAttributeError\u001b[0m: 'BarContainer' object has no attribute 'set_figheight'"
     ]
    },
    {
     "data": {
      "image/png": "[encoded data removed]",
      "text/plain": "<Figure size 432x288 with 1 Axes>"
     },
     "metadata": {
      "needs_background": "light"
     },
     "output_type": "display_data"
    }
   ],
   "source": [
    "import numpy as np\n",
    "\n",
    "users = [21, 26, 28, 11, 17, 10, 18, 15]\n",
    "x_axis = [\"Cockburn\", \"Stirling\", \"Swan\", \"Kalamunda\", \"Serpentine\", \"Vincent\", \"Wanneroo\", \"Perth\"]\n",
    "\n",
    "fig = plt.bar(x_axis, users, color='r', alpha=0.5)\n",
    "\n",
    "plt.title(\"Fatal Incidents in Suburbs\")\n",
    "plt.xlabel(\"Suburbs\")\n",
    "plt.ylabel(\"Fatal Incidents\")\n",
    "\n",
    "#tick_locations = [value for value in x_axis]\n",
    "#plt.xticks(tick_locations, [\"Cockburn\", \"Stirling\", \"Swan\", \"Kalamunda\", \"Serpentine\", \"Vincent\", \"Wanneroo\", \"Perth\"])"
   ]
  },
  {
   "cell_type": "code",
   "execution_count": 157,
   "metadata": {},
   "outputs": [
    {
     "data": {
      "text/plain": "([<matplotlib.axis.XTick at 0x7f9d445719a0>,\n  <matplotlib.axis.XTick at 0x7f9d465f3760>,\n  <matplotlib.axis.XTick at 0x7f9d465f75e0>,\n  <matplotlib.axis.XTick at 0x7f9d44587df0>,\n  <matplotlib.axis.XTick at 0x7f9d4590b100>],\n [Text(0, 0, 'New Orleans'),\n  Text(1, 0, 'Milwaukee'),\n  Text(2, 0, 'Omaha'),\n  Text(3, 0, 'Pittsburgh'),\n  Text(4, 0, 'Toledo')])"
     },
     "execution_count": 157,
     "metadata": {},
     "output_type": "execute_result"
    },
    {
     "data": {
      "image/png": "[encoded data removed]",
      "text/plain": "<Figure size 432x288 with 1 Axes>"
     },
     "metadata": {
      "needs_background": "light"
     },
     "output_type": "display_data"
    }
   ],
   "source": [
    " cities = [\"New Orleans\", \"Milwaukee\", \"Omaha\", \"Pittsburgh\", \"Toledo\"]\n",
    "bars_in_cities = [8.6, 8.5, 8.3, 7.9, 7.2]\n",
    "x_axis = np.arange(len(bars_in_cities))\n",
    "\n",
    "plt.bar(x_axis, bars_in_cities, color=\"b\", align=\"center\")\n",
    "\n",
    "tick_locations = [value for value in x_axis]\n",
    "plt.xticks(tick_locations, cities)"
   ]
  },
  {
   "cell_type": "code",
   "execution_count": 111,
   "metadata": {},
   "outputs": [
    {
     "name": "stderr",
     "output_type": "stream",
     "text": [
      "<ipython-input-111-a995369159b6>:7: SettingWithCopyWarning: \n",
      "A value is trying to be set on a copy of a slice from a DataFrame.\n",
      "Try using .loc[row_indexer,col_indexer] = value instead\n",
      "\n",
      "See the caveats in the documentation: https://pandas.pydata.org/pandas-docs/stable/user_guide/indexing.html#returning-a-view-versus-a-copy\n",
      "  group_2_time_df[\"Time Interval\"] = pd.cut(merge_3_df[\"Crash time\"],time_bins, labels=time_names)\n"
     ]
    },
    {
     "data": {
      "text/plain": "Suburb        Time Interval\nArmadale (C)  15-18             72\n              6-9               50\n              12-15             46\n              9-12              44\n              18-21             32\n                              ... \nWanneroo (C)  18-21            144\n              12-15            141\n              21-24             36\n              3-6               26\n              0-3                5\nName: Time Interval, Length: 218, dtype: int64"
     },
     "execution_count": 111,
     "metadata": {},
     "output_type": "execute_result"
    }
   ],
   "source": [
    "#Suburb by time-interval\n",
    "\n",
    "time_bins = [0, 259, 559, 859, 1159, 1459, 1759, 2059, 2359]\n",
    "time_names = [\"0-3\", \"3-6\", \"6-9\", \"9-12\", \"12-15\", \"15-18\", \"18-21\", \"21-24\"]\n",
    "\n",
    "group_2_time_df = metro_8_df\n",
    "group_2_time_df[\"Time Interval\"] = pd.cut(merge_3_df[\"Crash time\"],time_bins, labels=time_names)\n",
    "group_2_time_df\n",
    "\n",
    "group_2_time = group_2_time_df.groupby('Suburb') \n",
    "group_2_time[\"Time Interval\"].value_counts() "
   ]
  },
  {
   "cell_type": "code",
   "execution_count": 112,
   "metadata": {},
   "outputs": [
    {
     "data": {
      "text/html": "<div>\n<style scoped>\n    .dataframe tbody tr th:only-of-type {\n        vertical-align: middle;\n    }\n\n    .dataframe tbody tr th {\n        vertical-align: top;\n    }\n\n    .dataframe thead th {\n        text-align: right;\n    }\n</style>\n<table border=\"1\" class=\"dataframe\">\n  <thead>\n    <tr style=\"text-align: right;\">\n      <th></th>\n      <th></th>\n      <th>Incident Count</th>\n    </tr>\n    <tr>\n      <th>Suburb</th>\n      <th>Time Interval</th>\n      <th></th>\n    </tr>\n  </thead>\n  <tbody>\n    <tr>\n      <th rowspan=\"5\" valign=\"top\">Armadale (C)</th>\n      <th>15-18</th>\n      <td>72</td>\n    </tr>\n    <tr>\n      <th>6-9</th>\n      <td>50</td>\n    </tr>\n    <tr>\n      <th>12-15</th>\n      <td>46</td>\n    </tr>\n    <tr>\n      <th>9-12</th>\n      <td>44</td>\n    </tr>\n    <tr>\n      <th>18-21</th>\n      <td>32</td>\n    </tr>\n    <tr>\n      <th>...</th>\n      <th>...</th>\n      <td>...</td>\n    </tr>\n    <tr>\n      <th rowspan=\"5\" valign=\"top\">Wanneroo (C)</th>\n      <th>18-21</th>\n      <td>144</td>\n    </tr>\n    <tr>\n      <th>12-15</th>\n      <td>141</td>\n    </tr>\n    <tr>\n      <th>21-24</th>\n      <td>36</td>\n    </tr>\n    <tr>\n      <th>3-6</th>\n      <td>26</td>\n    </tr>\n    <tr>\n      <th>0-3</th>\n      <td>5</td>\n    </tr>\n  </tbody>\n</table>\n<p>218 rows × 1 columns</p>\n</div>",
      "text/plain": "                            Incident Count\nSuburb       Time Interval                \nArmadale (C) 15-18                      72\n             6-9                        50\n             12-15                      46\n             9-12                       44\n             18-21                      32\n...                                    ...\nWanneroo (C) 18-21                     144\n             12-15                     141\n             21-24                      36\n             3-6                        26\n             0-3                         5\n\n[218 rows x 1 columns]"
     },
     "execution_count": 112,
     "metadata": {},
     "output_type": "execute_result"
    }
   ],
   "source": [
    "# turning time interval of incidents v suburb into a dataframe \n",
    "\n",
    "\n",
    "group_2_time = group_2_time_df.groupby('Suburb')\n",
    "time_suburb = group_2_time[\"Time Interval\"].value_counts()\n",
    "suburb_time_df = group_2_time[\"Time Interval\"].value_counts()\n",
    "suburb_time_df = pd.DataFrame({\"Incident Count\": time_suburb})\n",
    "\n",
    "suburb_time = \"suburb_time.csv\"\n",
    "\n",
    "suburb_time_df.to_csv(suburb_time)\n",
    "\n",
    "suburb_time_df"
   ]
  },
  {
   "cell_type": "code",
   "execution_count": 58,
   "metadata": {},
   "outputs": [
    {
     "data": {
      "text/html": "<div>\n<style scoped>\n    .dataframe tbody tr th:only-of-type {\n        vertical-align: middle;\n    }\n\n    .dataframe tbody tr th {\n        vertical-align: top;\n    }\n\n    .dataframe thead th {\n        text-align: right;\n    }\n</style>\n<table border=\"1\" class=\"dataframe\">\n  <thead>\n    <tr style=\"text-align: right;\">\n      <th></th>\n      <th></th>\n      <th>Incident Count</th>\n    </tr>\n    <tr>\n      <th>Suburb</th>\n      <th>Severity</th>\n      <th></th>\n    </tr>\n  </thead>\n  <tbody>\n    <tr>\n      <th rowspan=\"3\" valign=\"top\">Armadale (C)</th>\n      <th>Medical</th>\n      <td>186</td>\n    </tr>\n    <tr>\n      <th>Hospital</th>\n      <td>78</td>\n    </tr>\n    <tr>\n      <th>Fatal</th>\n      <td>6</td>\n    </tr>\n    <tr>\n      <th rowspan=\"2\" valign=\"top\">Bassendean (T)</th>\n      <th>Medical</th>\n      <td>38</td>\n    </tr>\n    <tr>\n      <th>Hospital</th>\n      <td>17</td>\n    </tr>\n    <tr>\n      <th>...</th>\n      <th>...</th>\n      <td>...</td>\n    </tr>\n    <tr>\n      <th rowspan=\"2\" valign=\"top\">Vincent (C)</th>\n      <th>Hospital</th>\n      <td>227</td>\n    </tr>\n    <tr>\n      <th>Fatal</th>\n      <td>10</td>\n    </tr>\n    <tr>\n      <th rowspan=\"3\" valign=\"top\">Wanneroo (C)</th>\n      <th>Medical</th>\n      <td>761</td>\n    </tr>\n    <tr>\n      <th>Hospital</th>\n      <td>219</td>\n    </tr>\n    <tr>\n      <th>Fatal</th>\n      <td>18</td>\n    </tr>\n  </tbody>\n</table>\n<p>86 rows × 1 columns</p>\n</div>",
      "text/plain": "                         Incident Count\nSuburb         Severity                \nArmadale (C)   Medical              186\n               Hospital              78\n               Fatal                  6\nBassendean (T) Medical               38\n               Hospital              17\n...                                 ...\nVincent (C)    Hospital             227\n               Fatal                 10\nWanneroo (C)   Medical              761\n               Hospital             219\n               Fatal                 18\n\n[86 rows x 1 columns]"
     },
     "execution_count": 58,
     "metadata": {},
     "output_type": "execute_result"
    }
   ],
   "source": [
    "#group by time interval and fatality \n",
    "\n",
    "suburb_severity = group_2_time[\"Severity\"].value_counts()\n",
    "suburb_severity_df = group_2_time[\"Severity\"].value_counts()\n",
    "suburb_severity_df = pd.DataFrame({\"Incident Count\": suburb_severity})\n",
    "suburb_severity_df\n",
    "\n",
    "suburb_severity = \"suburb_severity.csv\"\n",
    "\n",
    "suburb_severity_df.to_csv(suburb_severity)\n",
    "\n",
    "suburb_severity_df"
   ]
  },
  {
   "cell_type": "code",
   "execution_count": 73,
   "metadata": {},
   "outputs": [],
   "source": [
    "# git remote -v \n",
    "\n",
    "# git add \n",
    "# git commit - m \"changes\"\n",
    "# git push origin justin"
   ]
  },
  {
   "cell_type": "code",
   "execution_count": null,
   "metadata": {},
   "outputs": [],
   "source": [
    "\n",
    "# ANOVA i reckon test difference means for the different speed limits and suburb \n",
    "\n",
    "# Data story >> what policy advise we can give form the data \n",
    "# 60 v 100 \n",
    "\n",
    "#there is no one size fit all solution, each hour of the day is different, each road is different, each suburb is different if the RSC they may need to shift the perspective of simply what is causing the accident but to target when and where it is happening. \n",
    "\n",
    "#passing off the reduction in incidents to solely the driver is not sufficient with campaigns targetting responsibility of the driver is not sufficient  \n",
    "\n",
    "#regional and metro might be different we are oging to focus on metro \n",
    "#the policy imlpication is that there is no one size fits all. RCS should not put all the weight onto the driver and also identify when accidents may occur so that action initiated policy schemes can prevent deaths, people don't plan to get into accidents"
   ]
  }
 ],
 "metadata": {
  "kernelspec": {
   "display_name": "Python 3.8.8 64-bit ('base': conda)",
   "name": "python388jvsc74a57bd06ae5a69d51937321194477b0fe6b784bc91adc50b6dc6daadd06e0a4296b18e7"
  },
  "language_info": {
   "codemirror_mode": {
    "name": "ipython",
    "version": 3
   },
   "file_extension": ".py",
   "mimetype": "text/x-python",
   "name": "python",
   "nbconvert_exporter": "python",
   "pygments_lexer": "ipython3",
   "version": "3.8.8"
  }
 },
 "nbformat": 4,
 "nbformat_minor": 2
}