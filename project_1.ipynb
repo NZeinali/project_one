{
 "cells": [
  {
   "cell_type": "code",
   "execution_count": 2,
   "metadata": {},
   "outputs": [
    {
     "output_type": "execute_result",
     "data": {
      "text/plain": [
       "    ACC_ID  ROAD_NO         ROAD_NAME   LONGITUDE   LATITUDE CRASH_DATE  \\\n",
       "0  9227453    10355          Povah Rd  122.229302 -17.929427     1/1/16   \n",
       "1  9227808  1020997      Abernethy Rd  115.987176 -31.963001     1/1/16   \n",
       "2  9237537  1080305            Ray Cl  116.019921 -32.214429     1/1/16   \n",
       "3  9237543  1260018     Clydesdale St  115.861867 -32.007798     1/1/16   \n",
       "4  9237547  1070128  Warnbro Sound Av  115.759332 -32.335668     1/1/16   \n",
       "\n",
       "   CRASH_TIME   SEVERITY    EVENT_NATURE            EVENT_TYPE  \\\n",
       "0       200.0  PDO Minor      Hit Object                   NaN   \n",
       "1         0.0  PDO Major      Hit Object                   NaN   \n",
       "2      1910.0    Medical  Hit Pedestrian  Involving Pedestrian   \n",
       "3         NaN  PDO Major   Non Collision                   NaN   \n",
       "4       135.0  PDO Major      Hit Object                   NaN   \n",
       "\n",
       "   TOTAL_BIKE_INVOLVED  TOTAL_TRUCK_INVOLVED  TOTAL_HEAVY_TRUCK_INVOLVED  \\\n",
       "0                    0                     0                           0   \n",
       "1                    0                     0                           0   \n",
       "2                    0                     0                           0   \n",
       "3                    0                     0                           0   \n",
       "4                    0                     0                           0   \n",
       "\n",
       "   TOTAL_MOTOR_CYCLE_INVOLVED  TOTAL_OTHER_VEHICLES_INVOLVED  \\\n",
       "0                           0                              0   \n",
       "1                           0                              0   \n",
       "2                           0                              1   \n",
       "3                           0                              1   \n",
       "4                           0                              1   \n",
       "\n",
       "   TOTAL_PEDESTRIANS_INVOLVED  \n",
       "0                           0  \n",
       "1                           0  \n",
       "2                           1  \n",
       "3                           0  \n",
       "4                           0  "
      ],
      "text/html": "<div>\n<style scoped>\n    .dataframe tbody tr th:only-of-type {\n        vertical-align: middle;\n    }\n\n    .dataframe tbody tr th {\n        vertical-align: top;\n    }\n\n    .dataframe thead th {\n        text-align: right;\n    }\n</style>\n<table border=\"1\" class=\"dataframe\">\n  <thead>\n    <tr style=\"text-align: right;\">\n      <th></th>\n      <th>ACC_ID</th>\n      <th>ROAD_NO</th>\n      <th>ROAD_NAME</th>\n      <th>LONGITUDE</th>\n      <th>LATITUDE</th>\n      <th>CRASH_DATE</th>\n      <th>CRASH_TIME</th>\n      <th>SEVERITY</th>\n      <th>EVENT_NATURE</th>\n      <th>EVENT_TYPE</th>\n      <th>TOTAL_BIKE_INVOLVED</th>\n      <th>TOTAL_TRUCK_INVOLVED</th>\n      <th>TOTAL_HEAVY_TRUCK_INVOLVED</th>\n      <th>TOTAL_MOTOR_CYCLE_INVOLVED</th>\n      <th>TOTAL_OTHER_VEHICLES_INVOLVED</th>\n      <th>TOTAL_PEDESTRIANS_INVOLVED</th>\n    </tr>\n  </thead>\n  <tbody>\n    <tr>\n      <th>0</th>\n      <td>9227453</td>\n      <td>10355</td>\n      <td>Povah Rd</td>\n      <td>122.229302</td>\n      <td>-17.929427</td>\n      <td>1/1/16</td>\n      <td>200.0</td>\n      <td>PDO Minor</td>\n      <td>Hit Object</td>\n      <td>NaN</td>\n      <td>0</td>\n      <td>0</td>\n      <td>0</td>\n      <td>0</td>\n      <td>0</td>\n      <td>0</td>\n    </tr>\n    <tr>\n      <th>1</th>\n      <td>9227808</td>\n      <td>1020997</td>\n      <td>Abernethy Rd</td>\n      <td>115.987176</td>\n      <td>-31.963001</td>\n      <td>1/1/16</td>\n      <td>0.0</td>\n      <td>PDO Major</td>\n      <td>Hit Object</td>\n      <td>NaN</td>\n      <td>0</td>\n      <td>0</td>\n      <td>0</td>\n      <td>0</td>\n      <td>0</td>\n      <td>0</td>\n    </tr>\n    <tr>\n      <th>2</th>\n      <td>9237537</td>\n      <td>1080305</td>\n      <td>Ray Cl</td>\n      <td>116.019921</td>\n      <td>-32.214429</td>\n      <td>1/1/16</td>\n      <td>1910.0</td>\n      <td>Medical</td>\n      <td>Hit Pedestrian</td>\n      <td>Involving Pedestrian</td>\n      <td>0</td>\n      <td>0</td>\n      <td>0</td>\n      <td>0</td>\n      <td>1</td>\n      <td>1</td>\n    </tr>\n    <tr>\n      <th>3</th>\n      <td>9237543</td>\n      <td>1260018</td>\n      <td>Clydesdale St</td>\n      <td>115.861867</td>\n      <td>-32.007798</td>\n      <td>1/1/16</td>\n      <td>NaN</td>\n      <td>PDO Major</td>\n      <td>Non Collision</td>\n      <td>NaN</td>\n      <td>0</td>\n      <td>0</td>\n      <td>0</td>\n      <td>0</td>\n      <td>1</td>\n      <td>0</td>\n    </tr>\n    <tr>\n      <th>4</th>\n      <td>9237547</td>\n      <td>1070128</td>\n      <td>Warnbro Sound Av</td>\n      <td>115.759332</td>\n      <td>-32.335668</td>\n      <td>1/1/16</td>\n      <td>135.0</td>\n      <td>PDO Major</td>\n      <td>Hit Object</td>\n      <td>NaN</td>\n      <td>0</td>\n      <td>0</td>\n      <td>0</td>\n      <td>0</td>\n      <td>1</td>\n      <td>0</td>\n    </tr>\n  </tbody>\n</table>\n</div>"
     },
     "metadata": {},
     "execution_count": 2
    }
   ],
   "source": [
    "# Dependencies and Setup\n",
    "import pandas as pd\n",
    "\n",
    "# File to Load (Remember to Change These)\n",
    "traffic_file = \"project_data.csv\"\n",
    "\n",
    "# Read Purchasing File and store into Pandas data frame\n",
    "traffic_df = pd.read_csv(traffic_file)\n",
    "\n",
    "traffic_df.head()"
   ]
  },
  {
   "cell_type": "code",
   "execution_count": 13,
   "metadata": {},
   "outputs": [
    {
     "output_type": "stream",
     "name": "stdout",
     "text": [
      "<class 'pandas.core.frame.DataFrame'>\nDatetimeIndex: 136676 entries, 1970-01-01 00:00:00 to 1970-01-01 00:00:00.000136675\nData columns (total 19 columns):\n #   Column                         Non-Null Count   Dtype  \n---  ------                         --------------   -----  \n 0   ACC_ID                         136676 non-null  int64  \n 1   ROAD_NO                        136676 non-null  object \n 2   ROAD_NAME                      136676 non-null  object \n 3   LONGITUDE                      136676 non-null  float64\n 4   LATITUDE                       136676 non-null  float64\n 5   CRASH_DATE                     136676 non-null  object \n 6   CRASH_TIME                     136344 non-null  float64\n 7   SEVERITY                       136676 non-null  object \n 8   EVENT_NATURE                   128771 non-null  object \n 9   EVENT_TYPE                     35188 non-null   object \n 10  TOTAL_BIKE_INVOLVED            136676 non-null  int64  \n 11  TOTAL_TRUCK_INVOLVED           136676 non-null  int64  \n 12  TOTAL_HEAVY_TRUCK_INVOLVED     136676 non-null  int64  \n 13  TOTAL_MOTOR_CYCLE_INVOLVED     136676 non-null  int64  \n 14  TOTAL_OTHER_VEHICLES_INVOLVED  136676 non-null  int64  \n 15  TOTAL_PEDESTRIANS_INVOLVED     136676 non-null  int64  \n 16  day                            136676 non-null  object \n 17  month                          136676 non-null  object \n 18  year                           136676 non-null  object \ndtypes: float64(3), int64(7), object(9)\nmemory usage: 20.9+ MB\n"
     ]
    },
    {
     "output_type": "execute_result",
     "data": {
      "text/plain": [
       "                                ACC_ID  ROAD_NO         ROAD_NAME   LONGITUDE  \\\n",
       "1970-01-01 00:00:00.000000000  9227453    10355          Povah Rd  122.229302   \n",
       "1970-01-01 00:00:00.000000001  9227808  1020997      Abernethy Rd  115.987176   \n",
       "1970-01-01 00:00:00.000000002  9237537  1080305            Ray Cl  116.019921   \n",
       "1970-01-01 00:00:00.000000003  9237543  1260018     Clydesdale St  115.861867   \n",
       "1970-01-01 00:00:00.000000004  9237547  1070128  Warnbro Sound Av  115.759332   \n",
       "\n",
       "                                LATITUDE CRASH_DATE  CRASH_TIME   SEVERITY  \\\n",
       "1970-01-01 00:00:00.000000000 -17.929427     1/1/16       200.0  PDO Minor   \n",
       "1970-01-01 00:00:00.000000001 -31.963001     1/1/16         0.0  PDO Major   \n",
       "1970-01-01 00:00:00.000000002 -32.214429     1/1/16      1910.0    Medical   \n",
       "1970-01-01 00:00:00.000000003 -32.007798     1/1/16         NaN  PDO Major   \n",
       "1970-01-01 00:00:00.000000004 -32.335668     1/1/16       135.0  PDO Major   \n",
       "\n",
       "                                 EVENT_NATURE            EVENT_TYPE  \\\n",
       "1970-01-01 00:00:00.000000000      Hit Object                   NaN   \n",
       "1970-01-01 00:00:00.000000001      Hit Object                   NaN   \n",
       "1970-01-01 00:00:00.000000002  Hit Pedestrian  Involving Pedestrian   \n",
       "1970-01-01 00:00:00.000000003   Non Collision                   NaN   \n",
       "1970-01-01 00:00:00.000000004      Hit Object                   NaN   \n",
       "\n",
       "                               TOTAL_BIKE_INVOLVED  TOTAL_TRUCK_INVOLVED  \\\n",
       "1970-01-01 00:00:00.000000000                    0                     0   \n",
       "1970-01-01 00:00:00.000000001                    0                     0   \n",
       "1970-01-01 00:00:00.000000002                    0                     0   \n",
       "1970-01-01 00:00:00.000000003                    0                     0   \n",
       "1970-01-01 00:00:00.000000004                    0                     0   \n",
       "\n",
       "                               TOTAL_HEAVY_TRUCK_INVOLVED  \\\n",
       "1970-01-01 00:00:00.000000000                           0   \n",
       "1970-01-01 00:00:00.000000001                           0   \n",
       "1970-01-01 00:00:00.000000002                           0   \n",
       "1970-01-01 00:00:00.000000003                           0   \n",
       "1970-01-01 00:00:00.000000004                           0   \n",
       "\n",
       "                               TOTAL_MOTOR_CYCLE_INVOLVED  \\\n",
       "1970-01-01 00:00:00.000000000                           0   \n",
       "1970-01-01 00:00:00.000000001                           0   \n",
       "1970-01-01 00:00:00.000000002                           0   \n",
       "1970-01-01 00:00:00.000000003                           0   \n",
       "1970-01-01 00:00:00.000000004                           0   \n",
       "\n",
       "                               TOTAL_OTHER_VEHICLES_INVOLVED  \\\n",
       "1970-01-01 00:00:00.000000000                              0   \n",
       "1970-01-01 00:00:00.000000001                              0   \n",
       "1970-01-01 00:00:00.000000002                              1   \n",
       "1970-01-01 00:00:00.000000003                              1   \n",
       "1970-01-01 00:00:00.000000004                              1   \n",
       "\n",
       "                               TOTAL_PEDESTRIANS_INVOLVED day month year  \n",
       "1970-01-01 00:00:00.000000000                           0   1     1   16  \n",
       "1970-01-01 00:00:00.000000001                           0   1     1   16  \n",
       "1970-01-01 00:00:00.000000002                           1   1     1   16  \n",
       "1970-01-01 00:00:00.000000003                           0   1     1   16  \n",
       "1970-01-01 00:00:00.000000004                           0   1     1   16  "
      ],
      "text/html": "<div>\n<style scoped>\n    .dataframe tbody tr th:only-of-type {\n        vertical-align: middle;\n    }\n\n    .dataframe tbody tr th {\n        vertical-align: top;\n    }\n\n    .dataframe thead th {\n        text-align: right;\n    }\n</style>\n<table border=\"1\" class=\"dataframe\">\n  <thead>\n    <tr style=\"text-align: right;\">\n      <th></th>\n      <th>ACC_ID</th>\n      <th>ROAD_NO</th>\n      <th>ROAD_NAME</th>\n      <th>LONGITUDE</th>\n      <th>LATITUDE</th>\n      <th>CRASH_DATE</th>\n      <th>CRASH_TIME</th>\n      <th>SEVERITY</th>\n      <th>EVENT_NATURE</th>\n      <th>EVENT_TYPE</th>\n      <th>TOTAL_BIKE_INVOLVED</th>\n      <th>TOTAL_TRUCK_INVOLVED</th>\n      <th>TOTAL_HEAVY_TRUCK_INVOLVED</th>\n      <th>TOTAL_MOTOR_CYCLE_INVOLVED</th>\n      <th>TOTAL_OTHER_VEHICLES_INVOLVED</th>\n      <th>TOTAL_PEDESTRIANS_INVOLVED</th>\n      <th>day</th>\n      <th>month</th>\n      <th>year</th>\n    </tr>\n  </thead>\n  <tbody>\n    <tr>\n      <th>1970-01-01 00:00:00.000000000</th>\n      <td>9227453</td>\n      <td>10355</td>\n      <td>Povah Rd</td>\n      <td>122.229302</td>\n      <td>-17.929427</td>\n      <td>1/1/16</td>\n      <td>200.0</td>\n      <td>PDO Minor</td>\n      <td>Hit Object</td>\n      <td>NaN</td>\n      <td>0</td>\n      <td>0</td>\n      <td>0</td>\n      <td>0</td>\n      <td>0</td>\n      <td>0</td>\n      <td>1</td>\n      <td>1</td>\n      <td>16</td>\n    </tr>\n    <tr>\n      <th>1970-01-01 00:00:00.000000001</th>\n      <td>9227808</td>\n      <td>1020997</td>\n      <td>Abernethy Rd</td>\n      <td>115.987176</td>\n      <td>-31.963001</td>\n      <td>1/1/16</td>\n      <td>0.0</td>\n      <td>PDO Major</td>\n      <td>Hit Object</td>\n      <td>NaN</td>\n      <td>0</td>\n      <td>0</td>\n      <td>0</td>\n      <td>0</td>\n      <td>0</td>\n      <td>0</td>\n      <td>1</td>\n      <td>1</td>\n      <td>16</td>\n    </tr>\n    <tr>\n      <th>1970-01-01 00:00:00.000000002</th>\n      <td>9237537</td>\n      <td>1080305</td>\n      <td>Ray Cl</td>\n      <td>116.019921</td>\n      <td>-32.214429</td>\n      <td>1/1/16</td>\n      <td>1910.0</td>\n      <td>Medical</td>\n      <td>Hit Pedestrian</td>\n      <td>Involving Pedestrian</td>\n      <td>0</td>\n      <td>0</td>\n      <td>0</td>\n      <td>0</td>\n      <td>1</td>\n      <td>1</td>\n      <td>1</td>\n      <td>1</td>\n      <td>16</td>\n    </tr>\n    <tr>\n      <th>1970-01-01 00:00:00.000000003</th>\n      <td>9237543</td>\n      <td>1260018</td>\n      <td>Clydesdale St</td>\n      <td>115.861867</td>\n      <td>-32.007798</td>\n      <td>1/1/16</td>\n      <td>NaN</td>\n      <td>PDO Major</td>\n      <td>Non Collision</td>\n      <td>NaN</td>\n      <td>0</td>\n      <td>0</td>\n      <td>0</td>\n      <td>0</td>\n      <td>1</td>\n      <td>0</td>\n      <td>1</td>\n      <td>1</td>\n      <td>16</td>\n    </tr>\n    <tr>\n      <th>1970-01-01 00:00:00.000000004</th>\n      <td>9237547</td>\n      <td>1070128</td>\n      <td>Warnbro Sound Av</td>\n      <td>115.759332</td>\n      <td>-32.335668</td>\n      <td>1/1/16</td>\n      <td>135.0</td>\n      <td>PDO Major</td>\n      <td>Hit Object</td>\n      <td>NaN</td>\n      <td>0</td>\n      <td>0</td>\n      <td>0</td>\n      <td>0</td>\n      <td>1</td>\n      <td>0</td>\n      <td>1</td>\n      <td>1</td>\n      <td>16</td>\n    </tr>\n  </tbody>\n</table>\n</div>"
     },
     "metadata": {},
     "execution_count": 13
    }
   ],
   "source": [
    "# converting date column to date month year \n",
    "\n",
    "traffic_df[[\"day\", \"month\", \"year\"]] = traffic_df[\"CRASH_DATE\"].str.split(\"/\", expand = True)\n",
    "traffic_df.info()\n",
    "traffic_df.head()"
   ]
  },
  {
   "cell_type": "code",
   "execution_count": 46,
   "metadata": {},
   "outputs": [
    {
     "output_type": "execute_result",
     "data": {
      "text/plain": [
       "2    81794\n",
       "1    40759\n",
       "0     6671\n",
       "3     6302\n",
       "4      941\n",
       "5      168\n",
       "6       33\n",
       "7        6\n",
       "8        1\n",
       "9        1\n",
       "Name: TOTAL_OTHER_VEHICLES_INVOLVED, dtype: int64"
      ]
     },
     "metadata": {},
     "execution_count": 46
    }
   ],
   "source": [
    "traffic_df[\"TOTAL_MOTOR_CYCLE_INVOLVED\"].value_counts()\n",
    "#traffic_df[\"TOTAL_BIKE_INVOLVED\"].value_counts()\n",
    "traffic_df[\"TOTAL_OTHER_VEHICLES_INVOLVED\"].value_counts()\n",
    "round(traffic_df[\"LATITUDE\"],1).value_counts()\n"
   ]
  },
  {
   "cell_type": "code",
   "execution_count": null,
   "metadata": {},
   "outputs": [],
   "source": [
    "traffic_df.groupby"
   ]
  },
  {
   "cell_type": "code",
   "execution_count": 58,
   "metadata": {},
   "outputs": [
    {
     "output_type": "execute_result",
     "data": {
      "text/plain": [
       "16-18    33435\n",
       "13-15    29911\n",
       "7-9      24744\n",
       "10-12    23769\n",
       "19-21    10713\n",
       "4-6       6425\n",
       "22-24     3950\n",
       "0-3       3144\n",
       "Name: Time Interval, dtype: int64"
      ]
     },
     "metadata": {},
     "execution_count": 58
    }
   ],
   "source": [
    "## TO-DO/EXPLORE >> This is just to explore the pattern/relationship between variable to see what is happening (the overall picture) after that we can hypothesis/test these relationships and weather they have a significant impact on accidents \n",
    "\n",
    "# Merge speed limit to get suburb\n",
    "\n",
    "    # Yearly pattern of accidents \n",
    "\n",
    "traffic_df['year'].replace({\"16\":\"2016\",\"17\": \"2017\", \"18\": \"2018\", \"19\": \"2019\", \"20\": \"2020\"}, inplace=True)\n",
    "\n",
    "traffic_df[\"year\"].value_counts()\n",
    "\n",
    "year_incident = traffic_df[\"year\"].value_counts()\n",
    "\n",
    "year_incident_df = pd.DataFrame({\"Traffic Incidents\": year_incident,})\n",
    "\n",
    "year_incident_df \n",
    "\n",
    "    # Pattern of accident by season/months # if i count how many months thats how many crash because each entry is a crash\n",
    "\n",
    "traffic_df['month'].replace({\"1\":\"Jan\",\"2\": \"Feb\", \"3\": \"Mar\", \"4\": \"Apr\", \"5\": \"May\", \"6\": \"Jun\", \"7\": \"Jul\", \"8\": \"Aug\", \"9\": \"Sep\", \"10\": \"Oct\", \"11\": \"Nov\", \"12\": \"Dec\"}, inplace=True)\n",
    "\n",
    "traffic_df[\"month\"].value_counts()\n",
    "\n",
    "month_incident = traffic_df[\"month\"].value_counts()\n",
    "\n",
    "month_incident_df =pd.DataFrame({\"Traffic Incidents\": month_incident,})\n",
    "month_incident_df\n",
    "\n",
    "    # Patterns of accident by day/night # use bin function to separate in 3 hour intervals -- > SUCCESS\n",
    "\n",
    "time_bins = [0, 359, 659, 959, 1259, 1559, 1859, 2159, 2359]\n",
    "time_names = [\"0-3\", \"4-6\", \"7-9\", \"10-12\", \"13-15\", \"16-18\", \"19-21\", \"22-24\"]\n",
    "\n",
    "group_time_df = traffic_df\n",
    "group_time_df[\"Time Interval\"] = pd.cut(group_time_df[\"CRASH_TIME\"],time_bins, labels=time_names)\n",
    "group_time_df\n",
    "\n",
    "group_time_df[\"Time Interval\"].value_counts()\n"
   ]
  },
  {
   "cell_type": "code",
   "execution_count": 65,
   "metadata": {},
   "outputs": [
    {
     "output_type": "execute_result",
     "data": {
      "text/plain": [
       "<pandas.core.groupby.generic.DataFrameGroupBy object at 0x7f92b1d86340>"
      ]
     },
     "metadata": {},
     "execution_count": 65
    }
   ],
   "source": [
    "# Month but group by year \n",
    "\n",
    "by_year_df = traffic_df.groupby('year')\n"
   ]
  },
  {
   "cell_type": "code",
   "execution_count": 67,
   "metadata": {},
   "outputs": [
    {
     "output_type": "execute_result",
     "data": {
      "text/plain": [
       "     Traffic Incidents\n",
       "Mar              12300\n",
       "Aug              12244\n",
       "May              12065\n",
       "Jul              11794\n",
       "Nov              11643\n",
       "Jun              11635\n",
       "Oct              11509\n",
       "Feb              11465\n",
       "Dec              11259\n",
       "Sep              10944\n",
       "Jan               9965\n",
       "Apr               9853"
      ],
      "text/html": "<div>\n<style scoped>\n    .dataframe tbody tr th:only-of-type {\n        vertical-align: middle;\n    }\n\n    .dataframe tbody tr th {\n        vertical-align: top;\n    }\n\n    .dataframe thead th {\n        text-align: right;\n    }\n</style>\n<table border=\"1\" class=\"dataframe\">\n  <thead>\n    <tr style=\"text-align: right;\">\n      <th></th>\n      <th>Traffic Incidents</th>\n    </tr>\n  </thead>\n  <tbody>\n    <tr>\n      <th>Mar</th>\n      <td>12300</td>\n    </tr>\n    <tr>\n      <th>Aug</th>\n      <td>12244</td>\n    </tr>\n    <tr>\n      <th>May</th>\n      <td>12065</td>\n    </tr>\n    <tr>\n      <th>Jul</th>\n      <td>11794</td>\n    </tr>\n    <tr>\n      <th>Nov</th>\n      <td>11643</td>\n    </tr>\n    <tr>\n      <th>Jun</th>\n      <td>11635</td>\n    </tr>\n    <tr>\n      <th>Oct</th>\n      <td>11509</td>\n    </tr>\n    <tr>\n      <th>Feb</th>\n      <td>11465</td>\n    </tr>\n    <tr>\n      <th>Dec</th>\n      <td>11259</td>\n    </tr>\n    <tr>\n      <th>Sep</th>\n      <td>10944</td>\n    </tr>\n    <tr>\n      <th>Jan</th>\n      <td>9965</td>\n    </tr>\n    <tr>\n      <th>Apr</th>\n      <td>9853</td>\n    </tr>\n  </tbody>\n</table>\n</div>"
     },
     "metadata": {},
     "execution_count": 67
    }
   ],
   "source": [
    "month_incident_df\n"
   ]
  },
  {
   "cell_type": "code",
   "execution_count": null,
   "metadata": {},
   "outputs": [],
   "source": [
    "## ^^ Try and do groupby.severity\n",
    "\n",
    "# How the accidents are in relation to: \n",
    "    \n",
    "    # Year (time series) \n",
    "\n",
    "    # Season/months \n",
    "\n",
    "    # Day/night \n",
    "\n",
    "#Vehicle type (motorcycle/truck/car - other vehicle) - this can also link to cause potentially\n",
    "\n",
    "    # Day/night \n",
    "\n",
    "    # Season/month\n",
    "    \n",
    "    # Year \n",
    "\n",
    "# Idea, if we can incorporate a colour map "
   ]
  }
 ],
 "metadata": {
  "kernelspec": {
   "name": "python388jvsc74a57bd06ae5a69d51937321194477b0fe6b784bc91adc50b6dc6daadd06e0a4296b18e7",
   "display_name": "Python 3.8.8 64-bit ('base': conda)"
  },
  "language_info": {
   "codemirror_mode": {
    "name": "ipython",
    "version": 3
   },
   "file_extension": ".py",
   "mimetype": "text/x-python",
   "name": "python",
   "nbconvert_exporter": "python",
   "pygments_lexer": "ipython3",
   "version": "3.8.8"
  }
 },
 "nbformat": 4,
 "nbformat_minor": 2
}