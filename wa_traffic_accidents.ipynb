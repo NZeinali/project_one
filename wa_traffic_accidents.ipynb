{
 "cells": [
  {
   "cell_type": "code",
   "execution_count": null,
   "source": [
    "## TO-DO/EXPLORE >> This is just to explore the pattern/relationship between variable to see what is happening (the overall picture) after that we can hypothesis/test these relationships and weather they have a significant impact on accidents \r\n",
    "\r\n",
    "# How to round/Lat-lon to narrow down traffic zones (at the moment round to 1)\r\n",
    "\r\n",
    "# Explore the relationships between the roads/suburb (lat/lon) and: \r\n",
    "\r\n",
    "    # Yearly pattern of accidents \r\n",
    "\r\n",
    "    # Pattern of accident by season/months \r\n",
    "\r\n",
    "    # Patterns of accident by day/night \r\n",
    "\r\n",
    "## ^^ Try and do groupby.severity\r\n",
    "\r\n",
    "# How the accidents are in relation to: \r\n",
    "    \r\n",
    "    # Year (time series) \r\n",
    "\r\n",
    "    # Season/months \r\n",
    "\r\n",
    "    # Day/night \r\n",
    "\r\n",
    "#Vehicle type (motorcycle/truck/car - other vehicle) - this can also link to cause potentially\r\n",
    "\r\n",
    "    # Day/night \r\n",
    "\r\n",
    "    # Season/month\r\n",
    "    \r\n",
    "    # Year \r\n",
    "\r\n",
    "# Idea, if we can incorporate a colour map\r\n"
   ],
   "outputs": [],
   "metadata": {}
  }
 ],
 "metadata": {
  "orig_nbformat": 4,
  "language_info": {
   "name": "python"
  }
 },
 "nbformat": 4,
 "nbformat_minor": 2
}